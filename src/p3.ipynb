{
 "cells": [
  {
   "cell_type": "code",
   "execution_count": 88,
   "id": "45e61a20",
   "metadata": {},
   "outputs": [],
   "source": [
    "from pymongo import MongoClient\n",
    "import pandas as pd\n",
    "import json\n",
    "from pandas.io.json import json_normalize\n",
    "from googlemaps import convert\n",
    "import googlemaps\n",
    "from datetime import datetime\n",
    "import requests\n",
    "from dotenv import load_dotenv\n",
    "import os\n",
    "from keplergl import KeplerGl\n",
    "import operator\n",
    "from functools import reduce"
   ]
  },
  {
   "cell_type": "code",
   "execution_count": 2,
   "id": "16eabaa1",
   "metadata": {},
   "outputs": [],
   "source": [
    "client= MongoClient (\"localhost:27017\")"
   ]
  },
  {
   "cell_type": "code",
   "execution_count": 3,
   "id": "bf250476",
   "metadata": {},
   "outputs": [],
   "source": [
    "db = client.get_database(\"Ironhack\")"
   ]
  },
  {
   "cell_type": "code",
   "execution_count": 4,
   "id": "fe04a62e",
   "metadata": {},
   "outputs": [],
   "source": [
    "collection = db.get_collection(\"companies\")"
   ]
  },
  {
   "cell_type": "code",
   "execution_count": 5,
   "id": "0eced781",
   "metadata": {},
   "outputs": [
    {
     "data": {
      "text/plain": [
       "True"
      ]
     },
     "execution_count": 5,
     "metadata": {},
     "output_type": "execute_result"
    }
   ],
   "source": [
    "load_dotenv()"
   ]
  },
  {
   "cell_type": "code",
   "execution_count": 6,
   "id": "98cf3ec3",
   "metadata": {},
   "outputs": [],
   "source": [
    "tokg = os.getenv(\"tokg\")\n"
   ]
  },
  {
   "cell_type": "code",
   "execution_count": 7,
   "id": "ddb1c8f5",
   "metadata": {},
   "outputs": [],
   "source": [
    "gmaps = googlemaps.Client(key= tokg )"
   ]
  },
  {
   "cell_type": "markdown",
   "id": "faca591e",
   "metadata": {},
   "source": [
    "# GeoSpatial Data Project:\n",
    "\n",
    "1. Designers like to go to design talks and share knowledge. There must be some nearby companies that also do design.\n",
    "2. 30% of the company staff have at least 1 child.\n",
    "3. Developers like to be near successful tech startups that have raised at least 1 Million dollars.\n",
    "4. Executives like Starbucks A LOT. Ensure there's a starbucks not too far.\n",
    "5. Account managers need to travel a lot.\n",
    "6. Everyone in the company is between 25 and 40, give them some place to go party.\n",
    "7. The CEO is vegan.\n",
    "8. If you want to make the maintenance guy happy, a basketball stadium must be around 10 Km.\n",
    "9. The office dog—\"Dobby\" needs a hairdresser every month. Ensure there's one not too far away.\n",
    "\n",
    "\n",
    "Para ello utilizaremos dos herramientas principales, por un lado Mongodb y la base de datos \"companies\" y por otro la api de Google Places, finalmente mostraremos los resultados obtenidos utilizando la libreria Kepler.\n",
    "\n",
    "## Empezamos...\n"
   ]
  },
  {
   "cell_type": "markdown",
   "id": "3824b4a3",
   "metadata": {},
   "source": [
    "### Filtrado inicial y localización:"
   ]
  },
  {
   "cell_type": "markdown",
   "id": "c050cf38",
   "metadata": {},
   "source": [
    "#### Lo primero que vamos a hacer es empezar a filtrar las companies por dos de sus keys: category code, que nos dice a qué se dedica, filtraremos por \"design\", como quieren los trabajadores; y total money raised, con un regex para que incluya \"M\" de millones\n"
   ]
  },
  {
   "cell_type": "code",
   "execution_count": 8,
   "id": "188ffeea",
   "metadata": {},
   "outputs": [],
   "source": [
    "#creamos 2 condicionantes y luego los enlistamos\n",
    "\n",
    "cond= {\"total_money_raised\" : {\"$regex\" : \"M\"}}\n",
    "# cond0= {\"\"}, la moneda solo está en IPO, y no todas tienen ipo...\n",
    "cond1= {\"category_code\": \"design\"}"
   ]
  },
  {
   "cell_type": "code",
   "execution_count": 9,
   "id": "a5423b3c",
   "metadata": {},
   "outputs": [
    {
     "data": {
      "text/plain": [
       "[{'name': '99designs',\n",
       "  'tag_list': 'graphic-design, crowdsourcing, online-marketplace, marketplace, crowdsourced-design'},\n",
       " {'name': 'Kickstarter',\n",
       "  'tag_list': 'crowdfunding, funding, entrepreneurship, crowdsourcing'},\n",
       " {'name': 'Moonfruit', 'tag_list': ''}]"
      ]
     },
     "execution_count": 9,
     "metadata": {},
     "output_type": "execute_result"
    }
   ],
   "source": [
    "list ((collection.find (({\"$and\" : [cond, cond1]}) , {\"name\":1, \"tag_list\": 1 , \"_id\":0})).limit (50))"
   ]
  },
  {
   "cell_type": "code",
   "execution_count": 10,
   "id": "cbaeec09",
   "metadata": {},
   "outputs": [
    {
     "data": {
      "text/plain": [
       "[{'name': '99designs',\n",
       "  'tag_list': 'graphic-design, crowdsourcing, online-marketplace, marketplace, crowdsourced-design',\n",
       "  'total_money_raised': '$35M'},\n",
       " {'name': 'Graticle',\n",
       "  'tag_list': 'web-design, web-hosting, graphic-design, web-development, seo, search-engine-optimization',\n",
       "  'total_money_raised': '$0'},\n",
       " {'name': 'Kickstarter',\n",
       "  'tag_list': 'crowdfunding, funding, entrepreneurship, crowdsourcing',\n",
       "  'total_money_raised': '$10M'},\n",
       " {'name': 'Moonfruit', 'tag_list': '', 'total_money_raised': '$2.25M'}]"
      ]
     },
     "execution_count": 10,
     "metadata": {},
     "output_type": "execute_result"
    }
   ],
   "source": [
    "#esto solo era una comprobación\n",
    "list ((collection.find (({\"$and\" : [cond1]}) , {\"name\":1,\"total_money_raised\": 1, \"tag_list\": 1 , \"_id\":0})).limit (50))"
   ]
  },
  {
   "cell_type": "markdown",
   "id": "1ccb8872",
   "metadata": {},
   "source": [
    "#### Vemos que solo hay 3 empresas que cumplan con ser empresas de diseño y haber recaudado 1 millón, me centraré en ellas, primero buscaré su ubicación\n"
   ]
  },
  {
   "cell_type": "code",
   "execution_count": 11,
   "id": "300549ec",
   "metadata": {},
   "outputs": [
    {
     "data": {
      "text/plain": [
       "[{'name': '99designs',\n",
       "  'offices': [{'description': 'United States (HQ)',\n",
       "    'address1': '447 Battery St.',\n",
       "    'address2': '3rd Floor',\n",
       "    'zip_code': '94111',\n",
       "    'city': 'San Francisco',\n",
       "    'state_code': 'CA',\n",
       "    'country_code': 'USA',\n",
       "    'latitude': 37.7955307,\n",
       "    'longitude': -122.4005983},\n",
       "   {'description': 'Australia',\n",
       "    'address1': '204 Wellington St.',\n",
       "    'address2': '',\n",
       "    'zip_code': '3065',\n",
       "    'city': 'Collingwood',\n",
       "    'state_code': None,\n",
       "    'country_code': 'AUS',\n",
       "    'latitude': -37.8026587,\n",
       "    'longitude': 144.9868546},\n",
       "   {'description': 'Europe',\n",
       "    'address1': 'Schlesische Str. 29-30',\n",
       "    'address2': '',\n",
       "    'zip_code': '',\n",
       "    'city': 'Berlin',\n",
       "    'state_code': None,\n",
       "    'country_code': 'DEU',\n",
       "    'latitude': 52.4986199,\n",
       "    'longitude': 13.4469031}]},\n",
       " {'name': 'Kickstarter',\n",
       "  'offices': [{'description': '',\n",
       "    'address1': '58 Kent St',\n",
       "    'address2': '',\n",
       "    'zip_code': '11222',\n",
       "    'city': 'Brooklyn',\n",
       "    'state_code': 'NY',\n",
       "    'country_code': 'USA',\n",
       "    'latitude': None,\n",
       "    'longitude': None}]},\n",
       " {'name': 'Moonfruit',\n",
       "  'offices': [{'description': 'UK Office',\n",
       "    'address1': '',\n",
       "    'address2': '',\n",
       "    'zip_code': '',\n",
       "    'city': 'London',\n",
       "    'state_code': None,\n",
       "    'country_code': 'GBR',\n",
       "    'latitude': None,\n",
       "    'longitude': None}]}]"
      ]
     },
     "execution_count": 11,
     "metadata": {},
     "output_type": "execute_result"
    }
   ],
   "source": [
    "# busco en el offices para  ver la dirección\n",
    "list ((collection.find (({\"$and\" : [cond, cond1]}) , { \"name\": 1, \"offices\": 1 , \"_id\":0})))"
   ]
  },
  {
   "cell_type": "code",
   "execution_count": 12,
   "id": "86855714",
   "metadata": {},
   "outputs": [],
   "source": [
    "# le añado una condición, porque si no lo añado como condicionante, no coge la salida .$ :1 que pongo en el siguiente paso.\n",
    "# creo que lo que voy a hacer hasta llegar al df con las ciudades que quiero es como matar moscas a cañonazos, pero no consigo \n",
    "# llegar a la ciudad de otra forma, uno de los resultados tiene 3 ciudades y no llego al que me interesa.\n",
    "cond2= {\"offices\": {\"$exists\": True }}"
   ]
  },
  {
   "cell_type": "code",
   "execution_count": 13,
   "id": "726795e7",
   "metadata": {},
   "outputs": [],
   "source": [
    "lista1=list ((collection.find (({\"$and\" : [cond, cond1, cond2]}) , {\"name\":1, \"offices.$\": 1, \"_id\":0})))"
   ]
  },
  {
   "cell_type": "code",
   "execution_count": 14,
   "id": "18c083fa",
   "metadata": {},
   "outputs": [
    {
     "data": {
      "text/html": [
       "<div>\n",
       "<style scoped>\n",
       "    .dataframe tbody tr th:only-of-type {\n",
       "        vertical-align: middle;\n",
       "    }\n",
       "\n",
       "    .dataframe tbody tr th {\n",
       "        vertical-align: top;\n",
       "    }\n",
       "\n",
       "    .dataframe thead th {\n",
       "        text-align: right;\n",
       "    }\n",
       "</style>\n",
       "<table border=\"1\" class=\"dataframe\">\n",
       "  <thead>\n",
       "    <tr style=\"text-align: right;\">\n",
       "      <th></th>\n",
       "      <th>name</th>\n",
       "      <th>offices</th>\n",
       "    </tr>\n",
       "  </thead>\n",
       "  <tbody>\n",
       "    <tr>\n",
       "      <th>0</th>\n",
       "      <td>99designs</td>\n",
       "      <td>[{'description': 'United States (HQ)', 'addres...</td>\n",
       "    </tr>\n",
       "    <tr>\n",
       "      <th>1</th>\n",
       "      <td>Kickstarter</td>\n",
       "      <td>[{'description': '', 'address1': '58 Kent St',...</td>\n",
       "    </tr>\n",
       "    <tr>\n",
       "      <th>2</th>\n",
       "      <td>Moonfruit</td>\n",
       "      <td>[{'description': 'UK Office', 'address1': '', ...</td>\n",
       "    </tr>\n",
       "  </tbody>\n",
       "</table>\n",
       "</div>"
      ],
      "text/plain": [
       "          name                                            offices\n",
       "0    99designs  [{'description': 'United States (HQ)', 'addres...\n",
       "1  Kickstarter  [{'description': '', 'address1': '58 Kent St',...\n",
       "2    Moonfruit  [{'description': 'UK Office', 'address1': '', ..."
      ]
     },
     "execution_count": 14,
     "metadata": {},
     "output_type": "execute_result"
    }
   ],
   "source": [
    "# Por favor, en la correción, si podéis explicarme cómo se usaría el json normalize lo agradecería.\n",
    "data= pd.DataFrame (lista1)\n",
    "data"
   ]
  },
  {
   "cell_type": "code",
   "execution_count": 15,
   "id": "7959fac8",
   "metadata": {},
   "outputs": [],
   "source": [
    "df1=pd.DataFrame (data.offices[0])\n",
    "df2=pd.DataFrame (data.offices[1])\n",
    "df3=pd.DataFrame (data.offices[2])"
   ]
  },
  {
   "cell_type": "code",
   "execution_count": 16,
   "id": "b8920ec7",
   "metadata": {},
   "outputs": [
    {
     "data": {
      "text/html": [
       "<div>\n",
       "<style scoped>\n",
       "    .dataframe tbody tr th:only-of-type {\n",
       "        vertical-align: middle;\n",
       "    }\n",
       "\n",
       "    .dataframe tbody tr th {\n",
       "        vertical-align: top;\n",
       "    }\n",
       "\n",
       "    .dataframe thead th {\n",
       "        text-align: right;\n",
       "    }\n",
       "</style>\n",
       "<table border=\"1\" class=\"dataframe\">\n",
       "  <thead>\n",
       "    <tr style=\"text-align: right;\">\n",
       "      <th></th>\n",
       "      <th>description</th>\n",
       "      <th>address1</th>\n",
       "      <th>address2</th>\n",
       "      <th>zip_code</th>\n",
       "      <th>city</th>\n",
       "      <th>state_code</th>\n",
       "      <th>country_code</th>\n",
       "      <th>latitude</th>\n",
       "      <th>longitude</th>\n",
       "    </tr>\n",
       "  </thead>\n",
       "  <tbody>\n",
       "    <tr>\n",
       "      <th>0</th>\n",
       "      <td>UK Office</td>\n",
       "      <td></td>\n",
       "      <td></td>\n",
       "      <td></td>\n",
       "      <td>London</td>\n",
       "      <td>None</td>\n",
       "      <td>GBR</td>\n",
       "      <td>None</td>\n",
       "      <td>None</td>\n",
       "    </tr>\n",
       "  </tbody>\n",
       "</table>\n",
       "</div>"
      ],
      "text/plain": [
       "  description address1 address2 zip_code    city state_code country_code  \\\n",
       "0   UK Office                             London       None          GBR   \n",
       "\n",
       "  latitude longitude  \n",
       "0     None      None  "
      ]
     },
     "execution_count": 16,
     "metadata": {},
     "output_type": "execute_result"
    }
   ],
   "source": [
    "df3"
   ]
  },
  {
   "cell_type": "code",
   "execution_count": 17,
   "id": "5ea34305",
   "metadata": {
    "scrolled": true
   },
   "outputs": [
    {
     "data": {
      "text/html": [
       "<div>\n",
       "<style scoped>\n",
       "    .dataframe tbody tr th:only-of-type {\n",
       "        vertical-align: middle;\n",
       "    }\n",
       "\n",
       "    .dataframe tbody tr th {\n",
       "        vertical-align: top;\n",
       "    }\n",
       "\n",
       "    .dataframe thead th {\n",
       "        text-align: right;\n",
       "    }\n",
       "</style>\n",
       "<table border=\"1\" class=\"dataframe\">\n",
       "  <thead>\n",
       "    <tr style=\"text-align: right;\">\n",
       "      <th></th>\n",
       "      <th>description</th>\n",
       "      <th>address1</th>\n",
       "      <th>address2</th>\n",
       "      <th>zip_code</th>\n",
       "      <th>city</th>\n",
       "      <th>state_code</th>\n",
       "      <th>country_code</th>\n",
       "      <th>latitude</th>\n",
       "      <th>longitude</th>\n",
       "    </tr>\n",
       "  </thead>\n",
       "  <tbody>\n",
       "    <tr>\n",
       "      <th>0</th>\n",
       "      <td>United States (HQ)</td>\n",
       "      <td>447 Battery St.</td>\n",
       "      <td>3rd Floor</td>\n",
       "      <td>94111</td>\n",
       "      <td>San Francisco</td>\n",
       "      <td>CA</td>\n",
       "      <td>USA</td>\n",
       "      <td>37.795531</td>\n",
       "      <td>-122.400598</td>\n",
       "    </tr>\n",
       "    <tr>\n",
       "      <th>1</th>\n",
       "      <td></td>\n",
       "      <td>58 Kent St</td>\n",
       "      <td></td>\n",
       "      <td>11222</td>\n",
       "      <td>Brooklyn</td>\n",
       "      <td>NY</td>\n",
       "      <td>USA</td>\n",
       "      <td>NaN</td>\n",
       "      <td>NaN</td>\n",
       "    </tr>\n",
       "    <tr>\n",
       "      <th>2</th>\n",
       "      <td>UK Office</td>\n",
       "      <td></td>\n",
       "      <td></td>\n",
       "      <td></td>\n",
       "      <td>London</td>\n",
       "      <td>None</td>\n",
       "      <td>GBR</td>\n",
       "      <td>NaN</td>\n",
       "      <td>NaN</td>\n",
       "    </tr>\n",
       "  </tbody>\n",
       "</table>\n",
       "</div>"
      ],
      "text/plain": [
       "          description         address1   address2 zip_code           city  \\\n",
       "0  United States (HQ)  447 Battery St.  3rd Floor    94111  San Francisco   \n",
       "1                           58 Kent St               11222       Brooklyn   \n",
       "2           UK Office                                              London   \n",
       "\n",
       "  state_code country_code   latitude   longitude  \n",
       "0         CA          USA  37.795531 -122.400598  \n",
       "1         NY          USA        NaN         NaN  \n",
       "2       None          GBR        NaN         NaN  "
      ]
     },
     "execution_count": 17,
     "metadata": {},
     "output_type": "execute_result"
    }
   ],
   "source": [
    "df= pd.concat ([df1,df2,df3], ignore_index=True)\n",
    "df"
   ]
  },
  {
   "cell_type": "markdown",
   "id": "53ebefbd",
   "metadata": {},
   "source": [
    "#### Ya tenemos los datos necesarios, pero para cada una de las empresas tenemos tipos de datos distintos, inicialmente cogí las ciudades, pero creo que será mas certero buscar la direccion de moonfruit, si busco london en geocode me dará una ubicación perfecta para cualquier tipo de búsqueda"
   ]
  },
  {
   "cell_type": "code",
   "execution_count": 31,
   "id": "be30cdda",
   "metadata": {},
   "outputs": [],
   "source": [
    "#copiando de las clases, pero cambiando latt por longt.\n",
    "def geocode(address):\n",
    "    \"\"\"\n",
    "   Saca las coordenadas de una dirección que le des.\n",
    "    \"\"\"\n",
    "    data = requests.get(f\"https://geocode.xyz/{address}?json=1\").json()\n",
    "    try:\n",
    "        return {\n",
    "           \"type\":\"Point\",\n",
    "            \"coordinates\":[float(data[\"latt\"]),float(data[\"longt\"])]}\n",
    "    except:\n",
    "        return data\n"
   ]
  },
  {
   "cell_type": "code",
   "execution_count": 32,
   "id": "dec44a99",
   "metadata": {},
   "outputs": [
    {
     "data": {
      "text/plain": [
       "{'type': 'Point', 'coordinates': [40.73132, -73.95009]}"
      ]
     },
     "execution_count": 32,
     "metadata": {},
     "output_type": "execute_result"
    }
   ],
   "source": [
    "bkyn= geocode (\"58 Kent St, brooklyn\")\n",
    "sfan= geocode (\"447 Battery St., San Francisco, US United States of America\")\n",
    "#london= geocode ( \"london\"), inicialmente lo tenía así, pero creo que hay que afinar ésta unicación\n",
    "bkyn"
   ]
  },
  {
   "cell_type": "markdown",
   "id": "325ade0f",
   "metadata": {},
   "source": [
    "#### Le vamos a preguntar a google places por Moonfruit, nos arroja 3 resultados, sus 3 sucursales. Teniendo que la api de google places siempre ordena por relevancia a no ser que le digamos lo contrario, nos quedamos con el primer resultado"
   ]
  },
  {
   "cell_type": "code",
   "execution_count": 33,
   "id": "1ffe51dc",
   "metadata": {},
   "outputs": [],
   "source": [
    "london1=gmaps.places(\n",
    "    \n",
    "        query= \"moonfruit\"\n",
    ")\n"
   ]
  },
  {
   "cell_type": "code",
   "execution_count": 34,
   "id": "dcaf357a",
   "metadata": {},
   "outputs": [
    {
     "data": {
      "text/plain": [
       "{'lat': 51.5214517, 'lng': -0.1420567}"
      ]
     },
     "execution_count": 34,
     "metadata": {},
     "output_type": "execute_result"
    }
   ],
   "source": [
    "london= london1[\"results\"][0][\"geometry\"][\"location\"]\n",
    "london"
   ]
  },
  {
   "cell_type": "markdown",
   "id": "a60d9158",
   "metadata": {},
   "source": [
    "### Geoquerys"
   ]
  },
  {
   "cell_type": "markdown",
   "id": "96cde038",
   "metadata": {},
   "source": [
    "#### Una vez que tengo las localizaciones, vamos a preguntarle a google por el resto de necesidades de la plantilla, después las meteremos en un dataframe y las puntuaremos de alguna manera aún por determinar.\n",
    "\n",
    "#### Empezamos con el número de starbucks, le vamos a preguntar a google places con \"nearby\", que nos devuelve los lugares que cumplan los parámetros :"
   ]
  },
  {
   "cell_type": "code",
   "execution_count": 35,
   "id": "6e207910",
   "metadata": {},
   "outputs": [],
   "source": [
    "starsfan=gmaps.places_nearby(\n",
    "    \n",
    "    location = sfan[\"coordinates\"],\n",
    "    radius = 200,\n",
    "    name = \"Starbucks\"\n",
    "    \n",
    ")"
   ]
  },
  {
   "cell_type": "code",
   "execution_count": 36,
   "id": "3e39db73",
   "metadata": {},
   "outputs": [],
   "source": [
    "starsbkyn=gmaps.places_nearby(\n",
    "    \n",
    "    location = bkyn[\"coordinates\"],\n",
    "    radius = 200,\n",
    "    name = \"Starbucks\"\n",
    "    \n",
    ")"
   ]
  },
  {
   "cell_type": "code",
   "execution_count": 37,
   "id": "60f96500",
   "metadata": {},
   "outputs": [],
   "source": [
    "starslond= gmaps.places_nearby(\n",
    "    \n",
    "        location= london ,\n",
    "        name ='starbucks',\n",
    "        radius=200, \n",
    ")\n",
    "\n",
    "#he probado indistintamente \"name\" y \"keyword\" y con mayúsculas y minúsculas con los mismos resultados"
   ]
  },
  {
   "cell_type": "code",
   "execution_count": 38,
   "id": "0fdc21de",
   "metadata": {},
   "outputs": [
    {
     "data": {
      "text/plain": [
       "5"
      ]
     },
     "execution_count": 38,
     "metadata": {},
     "output_type": "execute_result"
    }
   ],
   "source": [
    "len (starslond[\"results\"])"
   ]
  },
  {
   "cell_type": "markdown",
   "id": "d2e71f3b",
   "metadata": {},
   "source": [
    "#### Las consultas a Google Places nos devulven siempre un diccionario de 3 valores, donde el que nos interesa es results, que es donde nos dá los establecimientos. El len nos dá la densidad de establecimientos en el radio seleccionado, será el valor que usaré para ponderar y dar con la ciudad indicada. \n",
    "\n",
    "#### Continuamos con las necesidades, en este caso nos centraremos en los colegios cercanos"
   ]
  },
  {
   "cell_type": "code",
   "execution_count": 66,
   "id": "72268176",
   "metadata": {},
   "outputs": [],
   "source": [
    "neneslond = gmaps.places_nearby(\n",
    "        location= london ,\n",
    "        name =[\"kindergarten\",\"school\" , \"primary school\", \"high school\"], \n",
    "        radius=1000\n",
    "        )"
   ]
  },
  {
   "cell_type": "code",
   "execution_count": 67,
   "id": "8f62139f",
   "metadata": {},
   "outputs": [],
   "source": [
    "nenesfan=gmaps.places_nearby(\n",
    "    \n",
    "    location = sfan[\"coordinates\"],\n",
    "    radius = 1500,\n",
    "    name =[\"kindergarten\",\"school\" , \"primary school\", \"high school\"],\n",
    "    \n",
    "    )"
   ]
  },
  {
   "cell_type": "code",
   "execution_count": 68,
   "id": "b1d118f1",
   "metadata": {},
   "outputs": [],
   "source": [
    "nenesbkyn=gmaps.places_nearby(\n",
    "    \n",
    "    location = bkyn[\"coordinates\"],\n",
    "    radius = 1500,\n",
    "    name =[\"kindergarten\",\"school\" , \"primary school\", \"high school\"],\n",
    "    \n",
    ")"
   ]
  },
  {
   "cell_type": "markdown",
   "id": "ae9caf5b",
   "metadata": {},
   "source": [
    "#### Para los colegios, los resultados obtenidos son bastante pobres, así que incluiré otra forma de puntuarlos, vamos a calcular la distancia máxima en la que nuestros empleados tendrán al menos 10 instituciones educativas"
   ]
  },
  {
   "cell_type": "code",
   "execution_count": 42,
   "id": "ffbd6bf5",
   "metadata": {},
   "outputs": [],
   "source": [
    "neneslond2 = gmaps.places_nearby(\n",
    "        location= london,\n",
    "        keyword =[\"kindergarten\",\"school\" , \"primary school\", \"high school\", \"college\"],\n",
    "        rank_by= \"distance\"\n",
    "        )\n",
    "#esto me da los 20 primeros resultados rankeados por distancia, voy a elegir el décimo, y usar su distancia al punto de origen\n",
    "# como un elemento más para el cálculo ponderado, los coles mas cercanos eran insuficientes."
   ]
  },
  {
   "cell_type": "code",
   "execution_count": 43,
   "id": "7b11dc03",
   "metadata": {},
   "outputs": [],
   "source": [
    "def loc_decimo (dicfromgoogle):\n",
    "    \"\"\" Recibe como parámetro una respuesta de googleapi y retorna la localización del décimo elemento\"\"\"\n",
    "    return dicfromgoogle [\"results\"][9][\"geometry\"][\"location\"]"
   ]
  },
  {
   "cell_type": "code",
   "execution_count": 44,
   "id": "14304020",
   "metadata": {},
   "outputs": [
    {
     "data": {
      "text/plain": [
       "{'lat': 51.4740438, 'lng': -0.1573354}"
      ]
     },
     "execution_count": 44,
     "metadata": {},
     "output_type": "execute_result"
    }
   ],
   "source": [
    "last_nenes_lond= loc_decimo (neneslond2)\n",
    "last_nenes_lond"
   ]
  },
  {
   "cell_type": "code",
   "execution_count": 45,
   "id": "895cb5c0",
   "metadata": {},
   "outputs": [],
   "source": [
    "def distancia_entre (origen, destino):\n",
    "   \n",
    "    \"\"\"\n",
    "    Recibe como parámetros 2 coordenadas y nos devuelve la distancia entre ellas en metros y en valor numérico\n",
    "    \n",
    "    :param origins: One or more addresses, Place IDs, and/or latitude/longitude\n",
    "        values, from which to calculate distance and time. Each Place ID string\n",
    "        must be prepended with 'place_id:'. If you pass an address as a string,\n",
    "        the service will geocode the string and convert it to a\n",
    "        latitude/longitude coordinate to calculate directions.\n",
    "    \n",
    "    :type origins: a single location, or a list of locations, where a\n",
    "        location is a string, dict, list, or tuple\n",
    "    \n",
    "    :param destinations: One or more addresses, Place IDs, and/or lat/lng values\n",
    "        , to which to calculate distance and time. Each Place ID string must be\n",
    "        prepended with 'place_id:'. If you pass an address as a string, the\n",
    "        service will geocode the string and convert it to a latitude/longitude\n",
    "        coordinate to calculate directions.\n",
    "    \n",
    "    :type destinations: a single location, or a list of locations, where a\n",
    "        location is a string, dict, list, or tuple\n",
    "    \"\"\" #copiado de la función original\n",
    "    averquenossale=gmaps.distance_matrix (origen, destino) #esta sería la función original de la librería\n",
    "    return averquenossale[\"rows\"][0][\"elements\"][0][\"distance\"][\"value\"]# y le decimos que nos retorne lo que nos interesa"
   ]
  },
  {
   "cell_type": "code",
   "execution_count": 46,
   "id": "593ac39b",
   "metadata": {},
   "outputs": [
    {
     "data": {
      "text/plain": [
       "7850"
      ]
     },
     "execution_count": 46,
     "metadata": {},
     "output_type": "execute_result"
    }
   ],
   "source": [
    "radio_nenes_lond = distancia_entre (london , last_nenes_lond)\n",
    "radio_nenes_lond # es decir, los 10 colegios más cercanos se encuentran en un radio de 5800 metros"
   ]
  },
  {
   "cell_type": "code",
   "execution_count": 47,
   "id": "69b5a6c5",
   "metadata": {},
   "outputs": [],
   "source": [
    "nenesbkyn2 = gmaps.places_nearby(\n",
    "        location= bkyn[\"coordinates\"] ,\n",
    "        keyword=[\"kindergarten\",\"school\" , \"primary school\", \"high school\"],\n",
    "        rank_by= \"distance\"\n",
    "        )"
   ]
  },
  {
   "cell_type": "code",
   "execution_count": 48,
   "id": "00ec84c7",
   "metadata": {},
   "outputs": [
    {
     "data": {
      "text/plain": [
       "{'lat': 40.7188322, 'lng': -73.9982562}"
      ]
     },
     "execution_count": 48,
     "metadata": {},
     "output_type": "execute_result"
    }
   ],
   "source": [
    "last_nenes_bkyn= loc_decimo (nenesbkyn2)\n",
    "last_nenes_bkyn"
   ]
  },
  {
   "cell_type": "code",
   "execution_count": 49,
   "id": "cdb1b9b9",
   "metadata": {},
   "outputs": [],
   "source": [
    "# cambio el formato que no me lo coge en matrix\n",
    "stringbkyn= str (bkyn[\"coordinates\"][0])+ \",\" +str (bkyn[\"coordinates\"][1])\n",
    "stringsfan= str (sfan[\"coordinates\"][0])+ \",\" +str (sfan[\"coordinates\"][1])\n"
   ]
  },
  {
   "cell_type": "code",
   "execution_count": 50,
   "id": "140508a1",
   "metadata": {},
   "outputs": [
    {
     "data": {
      "text/plain": [
       "7091"
      ]
     },
     "execution_count": 50,
     "metadata": {},
     "output_type": "execute_result"
    }
   ],
   "source": [
    "radio_nenes_bkyn = distancia_entre (stringbkyn, last_nenes_bkyn)\n",
    "radio_nenes_bkyn"
   ]
  },
  {
   "cell_type": "code",
   "execution_count": 51,
   "id": "2696b493",
   "metadata": {},
   "outputs": [],
   "source": [
    "nenessfan2 = gmaps.places_nearby(\n",
    "        location= sfan[\"coordinates\"] ,\n",
    "        keyword =[\"kindergarten\",\"school\" , \"primary school\", \"high school\"],\n",
    "        rank_by= \"distance\"\n",
    "        )"
   ]
  },
  {
   "cell_type": "code",
   "execution_count": 52,
   "id": "2c59e8b4",
   "metadata": {},
   "outputs": [],
   "source": [
    "last_nenes_sfan= loc_decimo (nenessfan2)"
   ]
  },
  {
   "cell_type": "code",
   "execution_count": 53,
   "id": "be43511e",
   "metadata": {},
   "outputs": [],
   "source": [
    "stringsfan= str (sfan[\"coordinates\"][0])+ \",\" +str (sfan[\"coordinates\"][1])\n"
   ]
  },
  {
   "cell_type": "code",
   "execution_count": 54,
   "id": "a4089a0a",
   "metadata": {},
   "outputs": [
    {
     "data": {
      "text/plain": [
       "4080"
      ]
     },
     "execution_count": 54,
     "metadata": {},
     "output_type": "execute_result"
    }
   ],
   "source": [
    "radio_nenes_sfan = distancia_entre (stringsfan, last_nenes_sfan)\n",
    "radio_nenes_sfan"
   ]
  },
  {
   "cell_type": "markdown",
   "id": "ac905b52",
   "metadata": {},
   "source": [
    "#### Vamos con los veganos, misma operativa que con los colegios, añadiendo el type"
   ]
  },
  {
   "cell_type": "code",
   "execution_count": 55,
   "id": "32add2a8",
   "metadata": {},
   "outputs": [],
   "source": [
    "vegansbkyn=gmaps.places_nearby(\n",
    "    \n",
    "    location = bkyn[\"coordinates\"],\n",
    "    radius = 1000,\n",
    "    keyword=[\"vegan\"],\n",
    "    type= [\"restaurant\"]\n",
    "    \n",
    ")"
   ]
  },
  {
   "cell_type": "code",
   "execution_count": 56,
   "id": "f6d55594",
   "metadata": {},
   "outputs": [],
   "source": [
    "veganssfan=gmaps.places_nearby(\n",
    "    \n",
    "    location = sfan[\"coordinates\"],\n",
    "    radius = 1000,\n",
    "    keyword=[\"vegan\"],\n",
    "    type= [\"restaurant\"]\n",
    "    \n",
    ")"
   ]
  },
  {
   "cell_type": "code",
   "execution_count": 57,
   "id": "50456e38",
   "metadata": {},
   "outputs": [],
   "source": [
    "veganslond = gmaps.places_nearby(\n",
    "        location= london ,\n",
    "        radius = 1000,\n",
    "        keyword=[\"vegan\"],\n",
    "        type= [\"restaurant\"]\n",
    " )"
   ]
  },
  {
   "cell_type": "markdown",
   "id": "61f38624",
   "metadata": {},
   "source": [
    "#### Un poquito de fiesta para cuando acaben las restricciones"
   ]
  },
  {
   "cell_type": "code",
   "execution_count": 58,
   "id": "ba3939d5",
   "metadata": {},
   "outputs": [],
   "source": [
    "partylond = gmaps.places_nearby(\n",
    "        location= london ,\n",
    "        radius = 1000,\n",
    "        keyword=[\"party\"],\n",
    "        type= [\"bar\"]\n",
    " )"
   ]
  },
  {
   "cell_type": "code",
   "execution_count": 59,
   "id": "7b2de9ac",
   "metadata": {},
   "outputs": [],
   "source": [
    "partysfan=gmaps.places_nearby(\n",
    "    \n",
    "    location = sfan[\"coordinates\"],\n",
    "    radius = 1000,\n",
    "    keyword=[\"party\"],\n",
    "    type= [\"bar\"]\n",
    "    \n",
    ")"
   ]
  },
  {
   "cell_type": "code",
   "execution_count": 60,
   "id": "a5cf3888",
   "metadata": {},
   "outputs": [],
   "source": [
    "partybkyn=gmaps.places_nearby(\n",
    "    \n",
    "    location = bkyn[\"coordinates\"],\n",
    "    radius = 1000,\n",
    "    keyword=[\"party\"],\n",
    "    type= [\"bar\"]\n",
    "    \n",
    ")"
   ]
  },
  {
   "cell_type": "markdown",
   "id": "770ae6d7",
   "metadata": {},
   "source": [
    "# Puntuaciones\n",
    "\n",
    "### Vamos a meter los resultados en un Dataframe, para posteriormente añadir columnas con la puntuación de la ciudad para cada campo determinado y finalmente realizaremos el cálculo final"
   ]
  },
  {
   "cell_type": "code",
   "execution_count": 61,
   "id": "c9a78b61",
   "metadata": {},
   "outputs": [],
   "source": [
    "dfpuntuacion= pd.DataFrame ()"
   ]
  },
  {
   "cell_type": "code",
   "execution_count": 69,
   "id": "65ffe5a5",
   "metadata": {},
   "outputs": [],
   "source": [
    "dfpuntuacion[\"Ubicacion\"]= [\"San_Francisco\", \"Brooklyn\", \"London\"]\n",
    "dfpuntuacion[\"Densidad_Starbucks_200mtr\"]= [len (starsfan[\"results\"]),len (starsbkyn[\"results\"]),len (starslond[\"results\"])] \n",
    "dfpuntuacion[\"Densidad_Bares_1000mtrs\"]= [len (partysfan[\"results\"]),len (partybkyn[\"results\"]),len (partylond[\"results\"])] \n",
    "dfpuntuacion[\"Densidad_Veganos_1000mtrs\"]= [len (veganssfan[\"results\"]),len (vegansbkyn[\"results\"]),len (veganslond[\"results\"])] \n",
    "dfpuntuacion[\"Densidad_Colegios_1500mtrs\"]= [len (nenesfan[\"results\"]),len (nenesbkyn[\"results\"]),len (neneslond[\"results\"])] \n",
    "dfpuntuacion[\"Radio_para_encontrar_10_coles\"]= [radio_nenes_sfan, radio_nenes_bkyn, radio_nenes_lond]"
   ]
  },
  {
   "cell_type": "code",
   "execution_count": 70,
   "id": "8ea5cc25",
   "metadata": {},
   "outputs": [
    {
     "data": {
      "text/html": [
       "<div>\n",
       "<style scoped>\n",
       "    .dataframe tbody tr th:only-of-type {\n",
       "        vertical-align: middle;\n",
       "    }\n",
       "\n",
       "    .dataframe tbody tr th {\n",
       "        vertical-align: top;\n",
       "    }\n",
       "\n",
       "    .dataframe thead th {\n",
       "        text-align: right;\n",
       "    }\n",
       "</style>\n",
       "<table border=\"1\" class=\"dataframe\">\n",
       "  <thead>\n",
       "    <tr style=\"text-align: right;\">\n",
       "      <th></th>\n",
       "      <th>Ubicacion</th>\n",
       "      <th>Densidad_Starbucks_200mtr</th>\n",
       "      <th>Densidad_Bares_1000mtrs</th>\n",
       "      <th>Densidad_Veganos_1000mtrs</th>\n",
       "      <th>Densidad_Colegios_1500mtrs</th>\n",
       "      <th>Radio_para_encontrar_10_coles</th>\n",
       "      <th>densidad_de_cosas</th>\n",
       "    </tr>\n",
       "  </thead>\n",
       "  <tbody>\n",
       "    <tr>\n",
       "      <th>0</th>\n",
       "      <td>San_Francisco</td>\n",
       "      <td>9</td>\n",
       "      <td>20</td>\n",
       "      <td>6</td>\n",
       "      <td>3</td>\n",
       "      <td>4080</td>\n",
       "      <td>44</td>\n",
       "    </tr>\n",
       "    <tr>\n",
       "      <th>1</th>\n",
       "      <td>Brooklyn</td>\n",
       "      <td>1</td>\n",
       "      <td>10</td>\n",
       "      <td>1</td>\n",
       "      <td>1</td>\n",
       "      <td>7091</td>\n",
       "      <td>13</td>\n",
       "    </tr>\n",
       "    <tr>\n",
       "      <th>2</th>\n",
       "      <td>London</td>\n",
       "      <td>5</td>\n",
       "      <td>18</td>\n",
       "      <td>20</td>\n",
       "      <td>1</td>\n",
       "      <td>7850</td>\n",
       "      <td>43</td>\n",
       "    </tr>\n",
       "  </tbody>\n",
       "</table>\n",
       "</div>"
      ],
      "text/plain": [
       "       Ubicacion  Densidad_Starbucks_200mtr  Densidad_Bares_1000mtrs  \\\n",
       "0  San_Francisco                          9                       20   \n",
       "1       Brooklyn                          1                       10   \n",
       "2         London                          5                       18   \n",
       "\n",
       "   Densidad_Veganos_1000mtrs  Densidad_Colegios_1500mtrs  \\\n",
       "0                          6                           3   \n",
       "1                          1                           1   \n",
       "2                         20                           1   \n",
       "\n",
       "   Radio_para_encontrar_10_coles  densidad_de_cosas  \n",
       "0                           4080                 44  \n",
       "1                           7091                 13  \n",
       "2                           7850                 43  "
      ]
     },
     "execution_count": 70,
     "metadata": {},
     "output_type": "execute_result"
    }
   ],
   "source": [
    "dfpuntuacion"
   ]
  },
  {
   "cell_type": "code",
   "execution_count": 71,
   "id": "204fde02",
   "metadata": {},
   "outputs": [],
   "source": [
    "dfpuntuacion [\"densidad_de_cosas\"]= dfpuntuacion[\"Densidad_Starbucks_200mtr\"] + dfpuntuacion[\"Densidad_Bares_1000mtrs\"] + dfpuntuacion[\"Densidad_Veganos_1000mtrs\"] + dfpuntuacion[\"Densidad_Colegios_1500mtrs\"] "
   ]
  },
  {
   "cell_type": "code",
   "execution_count": 72,
   "id": "24733e51",
   "metadata": {},
   "outputs": [
    {
     "data": {
      "text/plain": [
       "0    38\n",
       "1    13\n",
       "2    44\n",
       "Name: densidad_de_cosas, dtype: int64"
      ]
     },
     "execution_count": 72,
     "metadata": {},
     "output_type": "execute_result"
    }
   ],
   "source": [
    "dfpuntuacion.densidad_de_cosas # además que aquí lo que importa es que el jefe coma bien"
   ]
  },
  {
   "cell_type": "markdown",
   "id": "b1841a20",
   "metadata": {},
   "source": [
    "### Y el ganador es: Moonfruit, en London\n",
    "\n",
    "#### Para ser honestos, si modifico el parámetro \"name\" por \"keyword\" en los colegios, ganaría San Francisco, pero de esto me he dado cuenta demasiado tarde."
   ]
  },
  {
   "cell_type": "code",
   "execution_count": 73,
   "id": "a19b95ea",
   "metadata": {},
   "outputs": [
    {
     "data": {
      "text/plain": [
       "{'lat': 51.5214517, 'lng': -0.1420567}"
      ]
     },
     "execution_count": 73,
     "metadata": {},
     "output_type": "execute_result"
    }
   ],
   "source": [
    "london"
   ]
  },
  {
   "cell_type": "markdown",
   "id": "4e6238d7",
   "metadata": {},
   "source": [
    "## Recopilación:\n",
    "\n",
    "### Vamos a meter todas las ubicaciones de los elementos que hemos comparado: colegios, bares, restaurantes veganos, etc en un dataframe, en este paso por supuesto no nos olvidaremos de buscar una buena peluqueria canina para Dobby y un campo de basket para Willy"
   ]
  },
  {
   "cell_type": "markdown",
   "id": "008bae33",
   "metadata": {},
   "source": [
    "### Modificación:\n",
    "#### Inicialmente iba a mostrar los datos almacenados en \"neneslond\", \"starslond\", pero creo que quedará un mapa más completo si mostramos más elementos. London ya ha ganado en la comparativa, así que mostraré los primeros 20 resultados para cada búsqueda en Google Places\n",
    "\n",
    "\n",
    "### Así que primero le preguntaré a google, y luego utilizaré la función y el bucle vistos en la clase de \"geo-dataframe\" para crear los dataframes con los datos de forma legible para la visualización.\n"
   ]
  },
  {
   "cell_type": "code",
   "execution_count": null,
   "id": "3fa40e6e",
   "metadata": {},
   "outputs": [],
   "source": [
    "# el número de 20 para mostrar es porque es el tamaño de la respuesta de google, se puede amploar \n",
    "# hasta 60 mediante el parametro \"pagetoken\" en una segunda y tercera búsqueda, que nos muestra 20 resultados omitiendo los\n",
    "# mostrados en las anteriores, una suerte de \"pasar página\""
   ]
  },
  {
   "cell_type": "markdown",
   "id": "9921d534",
   "metadata": {},
   "source": [
    "#### Sencillamente es utilizar la misma consulta inicial modificando el radius por rank_by"
   ]
  },
  {
   "cell_type": "code",
   "execution_count": 74,
   "id": "570feb72",
   "metadata": {},
   "outputs": [],
   "source": [
    "party2lond= gmaps.places_nearby(\n",
    "    \n",
    "        location= london,\n",
    "        keyword = [\"party\"],\n",
    "        type = [\"bar\"],\n",
    "        rank_by= \"distance\"\n",
    "        #page_token = party2lond.next_page_token, si realizamos primero la query como está, y luego hacemos esta, nos daría 20\n",
    "        # resultados extra\n",
    "        )"
   ]
  },
  {
   "cell_type": "code",
   "execution_count": 75,
   "id": "3483ad09",
   "metadata": {},
   "outputs": [],
   "source": [
    "vegans2lond= gmaps.places_nearby(\n",
    "    \n",
    "        location= london,\n",
    "        keyword = [\"vegan\"],\n",
    "        type = [\"restaurant\"],\n",
    "        rank_by= \"distance\"\n",
    "        )"
   ]
  },
  {
   "cell_type": "code",
   "execution_count": 76,
   "id": "a5223d98",
   "metadata": {},
   "outputs": [],
   "source": [
    "stars2lond= gmaps.places_nearby(\n",
    "    \n",
    "        location = london,\n",
    "        name = [\"starbucks\"],\n",
    "        rank_by = \"distance\"\n",
    "        )"
   ]
  },
  {
   "cell_type": "code",
   "execution_count": 77,
   "id": "7bff086c",
   "metadata": {},
   "outputs": [],
   "source": [
    "padobby= gmaps.places_nearby(\n",
    "        location = london,\n",
    "        keyword=[\"pet groomet\", \"dog groomet\", \"pet beauty salon\"],\n",
    "        rank_by= \"distance\"\n",
    "        )"
   ]
  },
  {
   "cell_type": "code",
   "execution_count": 78,
   "id": "70453488",
   "metadata": {},
   "outputs": [],
   "source": [
    "pawilly= gmaps.places_nearby(\n",
    "        location= london,\n",
    "        name=[\"basketball stadium\"],\n",
    "        rank_by= \"distance\"\n",
    "        )"
   ]
  },
  {
   "cell_type": "markdown",
   "id": "ebcc40b5",
   "metadata": {},
   "source": [
    "#### Entramos primero en results, que es la lista en la que se guardan los resultados:"
   ]
  },
  {
   "cell_type": "code",
   "execution_count": 79,
   "id": "6e641627",
   "metadata": {},
   "outputs": [],
   "source": [
    "decodeparty2lond = party2lond[\"results\"]\n",
    "decodenenes2lond = neneslond2 [\"results\"] # recordamos que estos ya estaban hechos.\n",
    "decodevegans2lond = vegans2lond [\"results\"]\n",
    "decodestars2lond = stars2lond [\"results\"]\n",
    "decodepadobby= padobby [\"results\"]\n",
    "decodepawilly = pawilly [\"results\"]\n"
   ]
  },
  {
   "cell_type": "code",
   "execution_count": 80,
   "id": "f60aadd0",
   "metadata": {},
   "outputs": [
    {
     "data": {
      "text/plain": [
       "[{'business_status': 'OPERATIONAL',\n",
       "  'geometry': {'location': {'lat': 51.5327517, 'lng': -0.1328685},\n",
       "   'viewport': {'northeast': {'lat': 51.53403117989272,\n",
       "     'lng': -0.1314531701072778},\n",
       "    'southwest': {'lat': 51.53133152010727, 'lng': -0.1341528298927222}}},\n",
       "  'icon': 'https://maps.gstatic.com/mapfiles/place_api/icons/v1/png_71/generic_business-71.png',\n",
       "  'name': 'Somers Town Community Sports Centre',\n",
       "  'opening_hours': {'open_now': False},\n",
       "  'photos': [{'height': 3024,\n",
       "    'html_attributions': ['<a href=\"https://maps.google.com/maps/contrib/113812005797241384690\">Ash - R11 Rahman</a>'],\n",
       "    'photo_reference': 'ATtYBwKy28dWUOWueDGc59MSfTd0Z1jkUx0xkmQQRaBpFuaGJe4Ij8-bCdPLcSpN4RcDwjOn4fyqqbyq7M-gTy7W3NiJmxfNlCI41uUIcKpSqDrYIblsY2gAUQ79pSCh1QV0UytmCMKH9rJ-s3GKJZQHVWKw_ySJv_soJkvwV6-dpieYZ3Ko',\n",
       "    'width': 4032}],\n",
       "  'place_id': 'ChIJpzmVryMbdkgRYEsmoTk8NfU',\n",
       "  'plus_code': {'compound_code': 'GVM8+4V London, United Kingdom',\n",
       "   'global_code': '9C3XGVM8+4V'},\n",
       "  'rating': 4.4,\n",
       "  'reference': 'ChIJpzmVryMbdkgRYEsmoTk8NfU',\n",
       "  'scope': 'GOOGLE',\n",
       "  'types': ['point_of_interest', 'establishment'],\n",
       "  'user_ratings_total': 76,\n",
       "  'vicinity': '134 Chalton St, London'},\n",
       " {'business_status': 'OPERATIONAL',\n",
       "  'geometry': {'location': {'lat': 51.5140112, 'lng': -0.1766283},\n",
       "   'viewport': {'northeast': {'lat': 51.51538182989272,\n",
       "     'lng': -0.1752417701072778},\n",
       "    'southwest': {'lat': 51.51268217010728, 'lng': -0.1779414298927222}}},\n",
       "  'icon': 'https://maps.gstatic.com/mapfiles/place_api/icons/v1/png_71/generic_business-71.png',\n",
       "  'name': 'Basketble.com',\n",
       "  'opening_hours': {'open_now': False},\n",
       "  'place_id': 'ChIJvznieNYFdkgRcspjjUsuFGM',\n",
       "  'plus_code': {'compound_code': 'GR7F+J8 London, United Kingdom',\n",
       "   'global_code': '9C3XGR7F+J8'},\n",
       "  'rating': 0,\n",
       "  'reference': 'ChIJvznieNYFdkgRcspjjUsuFGM',\n",
       "  'scope': 'GOOGLE',\n",
       "  'types': ['point_of_interest', 'establishment'],\n",
       "  'user_ratings_total': 0,\n",
       "  'vicinity': '13A Westbourne Terrace, London'},\n",
       " {'business_status': 'OPERATIONAL',\n",
       "  'geometry': {'location': {'lat': 51.5009553, 'lng': -0.1088921},\n",
       "   'viewport': {'northeast': {'lat': 51.50225547989272,\n",
       "     'lng': -0.1075895701072778},\n",
       "    'southwest': {'lat': 51.49955582010728, 'lng': -0.1102892298927222}}},\n",
       "  'icon': 'https://maps.gstatic.com/mapfiles/place_api/icons/v1/png_71/generic_business-71.png',\n",
       "  'name': 'Hireapitch UK ltd.',\n",
       "  'opening_hours': {'open_now': False},\n",
       "  'photos': [{'height': 480,\n",
       "    'html_attributions': ['<a href=\"https://maps.google.com/maps/contrib/117764092349139157135\">Hireapitch</a>'],\n",
       "    'photo_reference': 'ATtYBwIJgch4i5FiclPhEGDIkR9kFi9KpO4Lpgh6vXZmcwfmoSF29gs9IgpgtRPLtiuVM2Ir7uKrnt7GF63RgO3e7qHb0kINDHPg7uPvEh3EjNI2vQ-wCjD4I7JAqjnqkpL0UMo8U2c-SrhQ_FUDATBQ1xOoRTmwDPRmKgk53Tn4p9onGsd4',\n",
       "    'width': 640}],\n",
       "  'place_id': 'ChIJNZvMpLsEdkgRGKb0eC2JRsE',\n",
       "  'plus_code': {'compound_code': 'GV2R+9C London, United Kingdom',\n",
       "   'global_code': '9C3XGV2R+9C'},\n",
       "  'rating': 3.7,\n",
       "  'reference': 'ChIJNZvMpLsEdkgRGKb0eC2JRsE',\n",
       "  'scope': 'GOOGLE',\n",
       "  'types': ['point_of_interest', 'establishment'],\n",
       "  'user_ratings_total': 19,\n",
       "  'vicinity': '1 Coral St, London'},\n",
       " {'business_status': 'OPERATIONAL',\n",
       "  'geometry': {'location': {'lat': 51.491348, 'lng': -0.115375},\n",
       "   'viewport': {'northeast': {'lat': 51.49267857989271,\n",
       "     'lng': -0.1140486701072778},\n",
       "    'southwest': {'lat': 51.48997892010727, 'lng': -0.1167483298927222}}},\n",
       "  'icon': 'https://maps.gstatic.com/mapfiles/place_api/icons/v1/png_71/generic_business-71.png',\n",
       "  'name': 'The Regal & Jordan court',\n",
       "  'opening_hours': {'open_now': True},\n",
       "  'photos': [{'height': 1667,\n",
       "    'html_attributions': ['<a href=\"https://maps.google.com/maps/contrib/105932538985188446527\">A Google User</a>'],\n",
       "    'photo_reference': 'ATtYBwKFskihmtcpC-o3HUCt5mLEi54FceNA1ho7Rh3QOwhCOZN5p2jOACPVbhjGIxj8h2sobdoANGt_P2NgRfi4v6XuFauILLvKM_e8u_axkUTpLiwXvZC8pRhqtdOQkWxSBtTnwqOBj_LQhOC4HLagFtH2I2dA_y2UHnc3ULbhYiR6dnE',\n",
       "    'width': 2500}],\n",
       "  'place_id': 'ChIJtzL3ApUEdkgR8SkhZmbZDD0',\n",
       "  'plus_code': {'compound_code': 'FVRM+GR London, United Kingdom',\n",
       "   'global_code': '9C3XFVRM+GR'},\n",
       "  'rating': 4.5,\n",
       "  'reference': 'ChIJtzL3ApUEdkgR8SkhZmbZDD0',\n",
       "  'scope': 'GOOGLE',\n",
       "  'types': ['point_of_interest', 'establishment'],\n",
       "  'user_ratings_total': 90,\n",
       "  'vicinity': 'Beaufoy Walk, London'},\n",
       " {'business_status': 'OPERATIONAL',\n",
       "  'geometry': {'location': {'lat': 51.4887583, 'lng': -0.117837},\n",
       "   'viewport': {'northeast': {'lat': 51.49023357989272,\n",
       "     'lng': -0.1164305701072778},\n",
       "    'southwest': {'lat': 51.48753392010727, 'lng': -0.1191302298927222}}},\n",
       "  'icon': 'https://maps.gstatic.com/mapfiles/place_api/icons/v1/png_71/generic_business-71.png',\n",
       "  'name': 'Go Mammoth',\n",
       "  'opening_hours': {'open_now': False},\n",
       "  'photos': [{'height': 4032,\n",
       "    'html_attributions': ['<a href=\"https://maps.google.com/maps/contrib/100230170313689345535\">A Google User</a>'],\n",
       "    'photo_reference': 'ATtYBwLWVX2RkFEuxYifT-8BoO8UCh_joxevB7_CT5rkbktO7L3pdOOzure8b2envS0iZyfv5uFAOdarIr-bx13jvLdwRI_mD9ferKYYQhLwj7VyKVo2ZtiGfgwWyItphI_bKAc2ZhUUIqtUfHZGUcz2ZL49Hh8HnmOA5uz1eqAY_05gGpv6',\n",
       "    'width': 3024}],\n",
       "  'place_id': 'ChIJ2_J_UOsEdkgRdNXXzqI4gGk',\n",
       "  'plus_code': {'compound_code': 'FVQJ+GV London, United Kingdom',\n",
       "   'global_code': '9C3XFVQJ+GV'},\n",
       "  'rating': 4,\n",
       "  'reference': 'ChIJ2_J_UOsEdkgRdNXXzqI4gGk',\n",
       "  'scope': 'GOOGLE',\n",
       "  'types': ['point_of_interest', 'establishment'],\n",
       "  'user_ratings_total': 10,\n",
       "  'vicinity': 'Vauxhall Primary School, Vauxhall St, London'},\n",
       " {'business_status': 'OPERATIONAL',\n",
       "  'geometry': {'location': {'lat': 51.5327324, 'lng': -0.1975908},\n",
       "   'viewport': {'northeast': {'lat': 51.53417307989272,\n",
       "     'lng': -0.1962242701072778},\n",
       "    'southwest': {'lat': 51.53147342010728, 'lng': -0.1989239298927222}}},\n",
       "  'icon': 'https://maps.gstatic.com/mapfiles/place_api/icons/v1/png_71/generic_business-71.png',\n",
       "  'name': 'London Basketball Association',\n",
       "  'opening_hours': {'open_now': False},\n",
       "  'photos': [{'height': 915,\n",
       "    'html_attributions': ['<a href=\"https://maps.google.com/maps/contrib/107190176357871743446\">A Google User</a>'],\n",
       "    'photo_reference': 'ATtYBwIzsVOSdyG4Juy7XxK31gL3Y_iocD01LDFzMpQIK2FYyben4zLNN6TB2oNqyLwejfpSIAaqv6Ya_4oWwiPsEMqWFbHnUCyd7atRt1COuC3IWOix1vZm07XGznkLGk6HbK-UuygSgvbxdKNJqEN_oPKMGpzMv_MDYfZOjB-3oCsZmQOd',\n",
       "    'width': 1627}],\n",
       "  'place_id': 'ChIJU03Rcg0QdkgROvzpiYC6qAc',\n",
       "  'plus_code': {'compound_code': 'GRM2+3X London, United Kingdom',\n",
       "   'global_code': '9C3XGRM2+3X'},\n",
       "  'rating': 4.9,\n",
       "  'reference': 'ChIJU03Rcg0QdkgROvzpiYC6qAc',\n",
       "  'scope': 'GOOGLE',\n",
       "  'types': ['point_of_interest', 'establishment'],\n",
       "  'user_ratings_total': 32,\n",
       "  'vicinity': 'The Granville, 140 Carlton Vale, London'},\n",
       " {'business_status': 'OPERATIONAL',\n",
       "  'geometry': {'location': {'lat': 51.5530134, 'lng': -0.1119637},\n",
       "   'viewport': {'northeast': {'lat': 51.55431717989272,\n",
       "     'lng': -0.1106282201072778},\n",
       "    'southwest': {'lat': 51.55161752010728, 'lng': -0.1133278798927222}}},\n",
       "  'icon': 'https://maps.gstatic.com/mapfiles/place_api/icons/v1/png_71/generic_business-71.png',\n",
       "  'name': 'London Rec Basketball - Islingoton legeue',\n",
       "  'place_id': 'ChIJ5UWLn3YbdkgRc00gZu8ah8c',\n",
       "  'plus_code': {'compound_code': 'HV3Q+66 London, United Kingdom',\n",
       "   'global_code': '9C3XHV3Q+66'},\n",
       "  'rating': 4.8,\n",
       "  'reference': 'ChIJ5UWLn3YbdkgRc00gZu8ah8c',\n",
       "  'scope': 'GOOGLE',\n",
       "  'types': ['point_of_interest', 'establishment'],\n",
       "  'user_ratings_total': 4,\n",
       "  'vicinity': 'Hornsey Rd, London'},\n",
       " {'business_status': 'CLOSED_TEMPORARILY',\n",
       "  'geometry': {'location': {'lat': 51.5548885, 'lng': -0.108438},\n",
       "   'viewport': {'northeast': {'lat': 51.55793405000001, 'lng': -0.10617545},\n",
       "    'southwest': {'lat': 51.55227024999998, 'lng': -0.11076165}}},\n",
       "  'icon': 'https://maps.gstatic.com/mapfiles/place_api/icons/v1/png_71/stadium-71.png',\n",
       "  'name': 'Emirates Stadium',\n",
       "  'permanently_closed': True,\n",
       "  'photos': [{'height': 1689,\n",
       "    'html_attributions': ['<a href=\"https://maps.google.com/maps/contrib/102903520404911355299\">Jonathan Underhay</a>'],\n",
       "    'photo_reference': 'ATtYBwKhtGRIPAE27YAoOwTiq8gr8Yfz7AQt3vtiHaCiUAgKO2x0FBRcLotLAYcFdC-qHDARBg7eKydsV_UVX6yRQXk3LUEVZJGQjfrPrBBxkVsRo09ZkUdFrniYg6NQFd2wceQBOdn1BlAf3k9f7yKJBRSBqrUduQ1PEZof4jHeQF5M1mrH',\n",
       "    'width': 3435}],\n",
       "  'place_id': 'ChIJO14pRXYbdkgRkM-CgzxxADY',\n",
       "  'plus_code': {'compound_code': 'HV3R+XJ London, United Kingdom',\n",
       "   'global_code': '9C3XHV3R+XJ'},\n",
       "  'rating': 4.6,\n",
       "  'reference': 'ChIJO14pRXYbdkgRkM-CgzxxADY',\n",
       "  'scope': 'GOOGLE',\n",
       "  'types': ['stadium', 'point_of_interest', 'establishment'],\n",
       "  'user_ratings_total': 21715,\n",
       "  'vicinity': 'Hornsey Rd, London'},\n",
       " {'business_status': 'OPERATIONAL',\n",
       "  'geometry': {'location': {'lat': 51.5281202, 'lng': -0.2068108},\n",
       "   'viewport': {'northeast': {'lat': 51.52946417989272,\n",
       "     'lng': -0.2054625701072778},\n",
       "    'southwest': {'lat': 51.52676452010728, 'lng': -0.2081622298927222}}},\n",
       "  'icon': 'https://maps.gstatic.com/mapfiles/place_api/icons/v1/png_71/generic_business-71.png',\n",
       "  'name': 'Get a Game On',\n",
       "  'place_id': 'ChIJ5QTh2BYQdkgRbz_rHMX_ubQ',\n",
       "  'plus_code': {'compound_code': 'GQHV+67 London, United Kingdom',\n",
       "   'global_code': '9C3XGQHV+67'},\n",
       "  'rating': 0,\n",
       "  'reference': 'ChIJ5QTh2BYQdkgRbz_rHMX_ubQ',\n",
       "  'scope': 'GOOGLE',\n",
       "  'types': ['point_of_interest', 'establishment'],\n",
       "  'user_ratings_total': 0,\n",
       "  'vicinity': 'Caird St, London'},\n",
       " {'business_status': 'OPERATIONAL',\n",
       "  'geometry': {'location': {'lat': 51.495131, 'lng': -0.091001},\n",
       "   'viewport': {'northeast': {'lat': 51.49635587989273,\n",
       "     'lng': -0.08948212010727777},\n",
       "    'southwest': {'lat': 51.49365622010728, 'lng': -0.09218177989272221}}},\n",
       "  'icon': 'https://maps.gstatic.com/mapfiles/place_api/icons/v1/png_71/generic_business-71.png',\n",
       "  'name': 'GO Mammoth',\n",
       "  'opening_hours': {'open_now': False},\n",
       "  'photos': [{'height': 300,\n",
       "    'html_attributions': ['<a href=\"https://maps.google.com/maps/contrib/115685595841992899969\">GO Mammoth</a>'],\n",
       "    'photo_reference': 'ATtYBwKhuWzD9AqNL9MP5XPlHLbHIJB41REgvP69RuhyqrmfzSF3WSz6l_mUH3_T56VIaq-660KahoUTNnlYurme9m7Kz0C-bKz2VotLfqFUKSg4MuSrIpoxrdqvK7VLpQIMe9h09KqT6LMSGYJoSK11P1jDW1qW6FxlXHlytHajmyr1lHKH',\n",
       "    'width': 400}],\n",
       "  'place_id': 'ChIJiYjcyl8DdkgRsMf4eH9JunY',\n",
       "  'plus_code': {'compound_code': 'FWW5+3H London, United Kingdom',\n",
       "   'global_code': '9C3XFWW5+3H'},\n",
       "  'rating': 4.4,\n",
       "  'reference': 'ChIJiYjcyl8DdkgRsMf4eH9JunY',\n",
       "  'scope': 'GOOGLE',\n",
       "  'types': ['point_of_interest', 'establishment'],\n",
       "  'user_ratings_total': 12,\n",
       "  'vicinity': 'Globe Academy, Harper Rd, London'},\n",
       " {'business_status': 'OPERATIONAL',\n",
       "  'geometry': {'location': {'lat': 51.4775026, 'lng': -0.1735624},\n",
       "   'viewport': {'northeast': {'lat': 51.47890212989272,\n",
       "     'lng': -0.1722889701072778},\n",
       "    'southwest': {'lat': 51.47620247010727, 'lng': -0.1749886298927222}}},\n",
       "  'icon': 'https://maps.gstatic.com/mapfiles/place_api/icons/v1/png_71/generic_business-71.png',\n",
       "  'name': 'Football and Basketball Court',\n",
       "  'opening_hours': {'open_now': True},\n",
       "  'place_id': 'ChIJ6TdSEzcFdkgRj8Xe-C4bbsA',\n",
       "  'plus_code': {'compound_code': 'FRHG+2H London, United Kingdom',\n",
       "   'global_code': '9C3XFRHG+2H'},\n",
       "  'rating': 4.8,\n",
       "  'reference': 'ChIJ6TdSEzcFdkgRj8Xe-C4bbsA',\n",
       "  'scope': 'GOOGLE',\n",
       "  'types': ['point_of_interest', 'establishment'],\n",
       "  'user_ratings_total': 4,\n",
       "  'vicinity': '108 Battersea Church Rd, London'},\n",
       " {'business_status': 'OPERATIONAL',\n",
       "  'geometry': {'location': {'lat': 51.5669929, 'lng': -0.1160082},\n",
       "   'viewport': {'northeast': {'lat': 51.56828522989272,\n",
       "     'lng': -0.1145590201072778},\n",
       "    'southwest': {'lat': 51.56558557010727, 'lng': -0.1172586798927222}}},\n",
       "  'icon': 'https://maps.gstatic.com/mapfiles/place_api/icons/v1/png_71/generic_business-71.png',\n",
       "  'name': 'GO Mammoth Basketball',\n",
       "  'opening_hours': {'open_now': False},\n",
       "  'place_id': 'ChIJhZLsF5gbdkgRLHfn_KrFtPw',\n",
       "  'plus_code': {'compound_code': 'HV8M+QH London, United Kingdom',\n",
       "   'global_code': '9C3XHV8M+QH'},\n",
       "  'rating': 3.5,\n",
       "  'reference': 'ChIJhZLsF5gbdkgRLHfn_KrFtPw',\n",
       "  'scope': 'GOOGLE',\n",
       "  'types': ['point_of_interest', 'establishment'],\n",
       "  'user_ratings_total': 6,\n",
       "  'vicinity': 'Islington Arts and Media School, Turle Rd, London'},\n",
       " {'business_status': 'OPERATIONAL',\n",
       "  'geometry': {'location': {'lat': 51.5179556, 'lng': -0.2293408},\n",
       "   'viewport': {'northeast': {'lat': 51.51943767989273,\n",
       "     'lng': -0.2269293999999999},\n",
       "    'southwest': {'lat': 51.51673802010728, 'lng': -0.2301446}}},\n",
       "  'icon': 'https://maps.gstatic.com/mapfiles/place_api/icons/v1/png_71/generic_business-71.png',\n",
       "  'name': 'GO Mammoth',\n",
       "  'opening_hours': {'open_now': False},\n",
       "  'photos': [{'height': 4608,\n",
       "    'html_attributions': ['<a href=\"https://maps.google.com/maps/contrib/102688552154828718278\">Gonçalo Carmo</a>'],\n",
       "    'photo_reference': 'ATtYBwJsEShSxIXjY1vZsR96qVD2NJfE0hmq6sU-Conv8b5KjIVUkfSx_wopxfnEQ2z80GDvuDsTH6k7CPe1sXkWptNijTZraNLm88oXQq6AL7U0ubeTti08pDWBLze-Dp1SiVbLdT_F7muzeT_7NNNuaY3uhZ0b_0GOEeu7n3nqsZOiuX0K',\n",
       "    'width': 3456}],\n",
       "  'place_id': 'ChIJO4ZdKSoQdkgREbZATpUBLYg',\n",
       "  'plus_code': {'compound_code': 'GQ9C+57 London, United Kingdom',\n",
       "   'global_code': '9C3XGQ9C+57'},\n",
       "  'rating': 2.8,\n",
       "  'reference': 'ChIJO4ZdKSoQdkgREbZATpUBLYg',\n",
       "  'scope': 'GOOGLE',\n",
       "  'types': ['point_of_interest', 'establishment'],\n",
       "  'user_ratings_total': 12,\n",
       "  'vicinity': 'Ark Burlington Danes Primary Academy, Wood Ln, London'},\n",
       " {'business_status': 'OPERATIONAL',\n",
       "  'geometry': {'location': {'lat': 51.4821928, 'lng': -0.2161073},\n",
       "   'viewport': {'northeast': {'lat': 51.48363417989273,\n",
       "     'lng': -0.2144543701072778},\n",
       "    'southwest': {'lat': 51.48093452010728, 'lng': -0.2171540298927222}}},\n",
       "  'icon': 'https://maps.gstatic.com/mapfiles/place_api/icons/v1/png_71/generic_business-71.png',\n",
       "  'name': 'Basketball Court',\n",
       "  'place_id': 'ChIJS_im7NAPdkgRtbaR2NC5wDY',\n",
       "  'plus_code': {'compound_code': 'FQJM+VH London, United Kingdom',\n",
       "   'global_code': '9C3XFQJM+VH'},\n",
       "  'rating': 0,\n",
       "  'reference': 'ChIJS_im7NAPdkgRtbaR2NC5wDY',\n",
       "  'scope': 'GOOGLE',\n",
       "  'types': ['point_of_interest', 'establishment'],\n",
       "  'user_ratings_total': 0,\n",
       "  'vicinity': '33 Purcell Cres, London'},\n",
       " {'business_status': 'OPERATIONAL',\n",
       "  'geometry': {'location': {'lat': 51.4636338, 'lng': -0.1129204},\n",
       "   'viewport': {'northeast': {'lat': 51.46498477989272,\n",
       "     'lng': -0.1114305701072778},\n",
       "    'southwest': {'lat': 51.46228512010727, 'lng': -0.1141302298927222}}},\n",
       "  'icon': 'https://maps.gstatic.com/mapfiles/place_api/icons/v1/png_71/generic_business-71.png',\n",
       "  'name': 'Brixton Topcats Basketball Club',\n",
       "  'place_id': 'ChIJB4-_P2YEdkgRUHpbtIz4Bjk',\n",
       "  'plus_code': {'compound_code': 'FV7P+FR London, United Kingdom',\n",
       "   'global_code': '9C3XFV7P+FR'},\n",
       "  'rating': 3.6,\n",
       "  'reference': 'ChIJB4-_P2YEdkgRUHpbtIz4Bjk',\n",
       "  'scope': 'GOOGLE',\n",
       "  'types': ['point_of_interest', 'establishment'],\n",
       "  'user_ratings_total': 7,\n",
       "  'vicinity': '27 Brixton Station Rd, London'},\n",
       " {'business_status': 'OPERATIONAL',\n",
       "  'geometry': {'location': {'lat': 51.49542229999999, 'lng': -0.0426583},\n",
       "   'viewport': {'northeast': {'lat': 51.49679217989273,\n",
       "     'lng': -0.04120597010727779},\n",
       "    'southwest': {'lat': 51.49409252010729, 'lng': -0.04390562989272221}}},\n",
       "  'icon': 'https://maps.gstatic.com/mapfiles/place_api/icons/v1/png_71/generic_business-71.png',\n",
       "  'name': 'Sportsonic',\n",
       "  'photos': [{'height': 1265,\n",
       "    'html_attributions': ['<a href=\"https://maps.google.com/maps/contrib/118381281707278752145\">Sportsonic</a>'],\n",
       "    'photo_reference': 'ATtYBwJUBfbjW56cbcKyD7WxhBULQHQyLy5nZGj4fbN9FHxCamnRh7V3PVNLEGaIjeQsFn8PGkzD0kWLiOwGPqiKpfIml4a3-5krAyBvR1Y_9vfANIfORDXqZnuxH4X8DEOVoxFZUNCtIw7kXvxkeCXnnSLQHs5wK0jDZF9Im4FOwUKU3MKW',\n",
       "    'width': 1265}],\n",
       "  'place_id': 'ChIJKe1ea94CdkgRjFAHf-gMhEY',\n",
       "  'plus_code': {'compound_code': 'FXW4+5W London, United Kingdom',\n",
       "   'global_code': '9C3XFXW4+5W'},\n",
       "  'rating': 2,\n",
       "  'reference': 'ChIJKe1ea94CdkgRjFAHf-gMhEY',\n",
       "  'scope': 'GOOGLE',\n",
       "  'types': ['general_contractor',\n",
       "   'school',\n",
       "   'health',\n",
       "   'point_of_interest',\n",
       "   'clothing_store',\n",
       "   'store',\n",
       "   'establishment'],\n",
       "  'user_ratings_total': 1,\n",
       "  'vicinity': '10 Brunswick Quay, London'},\n",
       " {'business_status': 'OPERATIONAL',\n",
       "  'geometry': {'location': {'lat': 51.4848217, 'lng': -0.0508222},\n",
       "   'viewport': {'northeast': {'lat': 51.48626592989272,\n",
       "     'lng': -0.04945687010727778},\n",
       "    'southwest': {'lat': 51.48356627010727, 'lng': -0.05215652989272221}}},\n",
       "  'icon': 'https://maps.gstatic.com/mapfiles/place_api/icons/v1/png_71/generic_business-71.png',\n",
       "  'name': 'London Thunder',\n",
       "  'opening_hours': {'open_now': True},\n",
       "  'photos': [{'height': 1536,\n",
       "    'html_attributions': ['<a href=\"https://maps.google.com/maps/contrib/103185508587828530624\">A Google User</a>'],\n",
       "    'photo_reference': 'ATtYBwLUzcPaNaGixkrnpKw0zS8nC5jxH3z4xxNrm_fOLtIkkS24SdFy9Y6wp-rHjpy_olsDVdXgyI8y6OnzIncxYx0x2bCjA0KmSSLCUJkvuAghRUza12EcvDKNTe2gVE9mljoqixpE9MK_9ktvhp9EEyn_jpGpomeopZ3VC28lTYTEHlVs',\n",
       "    'width': 2048}],\n",
       "  'place_id': 'ChIJyUzY6RwDdkgRKIgY_nMbroE',\n",
       "  'plus_code': {'compound_code': 'FWMX+WM London, United Kingdom',\n",
       "   'global_code': '9C3XFWMX+WM'},\n",
       "  'rating': 4.3,\n",
       "  'reference': 'ChIJyUzY6RwDdkgRKIgY_nMbroE',\n",
       "  'scope': 'GOOGLE',\n",
       "  'types': ['point_of_interest', 'establishment'],\n",
       "  'user_ratings_total': 44,\n",
       "  'vicinity': 'The Thunderdome, Stockholm Rd, London'},\n",
       " {'business_status': 'OPERATIONAL',\n",
       "  'geometry': {'location': {'lat': 51.52754119999999, 'lng': -0.0281798},\n",
       "   'viewport': {'northeast': {'lat': 51.52893482989271,\n",
       "     'lng': -0.02666212010727778},\n",
       "    'southwest': {'lat': 51.52623517010727, 'lng': -0.02936177989272221}}},\n",
       "  'icon': 'https://maps.gstatic.com/mapfiles/place_api/icons/v1/png_71/generic_business-71.png',\n",
       "  'name': 'GO Mammoth Basketball',\n",
       "  'place_id': 'ChIJ2y2NkjkddkgRXmrnVkS0i8o',\n",
       "  'plus_code': {'compound_code': 'GXHC+2P London, United Kingdom',\n",
       "   'global_code': '9C3XGXHC+2P'},\n",
       "  'rating': 2.8,\n",
       "  'reference': 'ChIJ2y2NkjkddkgRXmrnVkS0i8o',\n",
       "  'scope': 'GOOGLE',\n",
       "  'types': ['point_of_interest', 'establishment'],\n",
       "  'user_ratings_total': 4,\n",
       "  'vicinity': 'Central Foundation Girls’ School, 25-33 Bow Rd, London'},\n",
       " {'business_status': 'OPERATIONAL',\n",
       "  'geometry': {'location': {'lat': 51.5443533, 'lng': -0.0203306},\n",
       "   'viewport': {'northeast': {'lat': 51.54594292989272,\n",
       "     'lng': -0.01905437010727778},\n",
       "    'southwest': {'lat': 51.54324327010728, 'lng': -0.02175402989272221}}},\n",
       "  'icon': 'https://maps.gstatic.com/mapfiles/place_api/icons/v1/png_71/generic_business-71.png',\n",
       "  'name': 'London Lions',\n",
       "  'opening_hours': {'open_now': False},\n",
       "  'photos': [{'height': 1328,\n",
       "    'html_attributions': ['<a href=\"https://maps.google.com/maps/contrib/116706746053282802240\">lmhlouis</a>'],\n",
       "    'photo_reference': 'ATtYBwJg1gUDmQeKHWf_JC4LPQ96_b0hKxfIhcONY_CJ1pXc0Uk_9t60vXMarNhog-6qbPvZny989TX9m_KnqV77Jme6BF4SpjArVr22yYKUCkXx9Bl8YANm40IQn0B454MuDW9DU-7eYjo_KqfDVMcARNELmd9CiXs7-VRogp2DMosRzS34',\n",
       "    'width': 747}],\n",
       "  'place_id': 'ChIJ89nLrm0ddkgRIiaYswxc-SE',\n",
       "  'plus_code': {'compound_code': 'GXVH+PV London, United Kingdom',\n",
       "   'global_code': '9C3XGXVH+PV'},\n",
       "  'rating': 4.1,\n",
       "  'reference': 'ChIJ89nLrm0ddkgRIiaYswxc-SE',\n",
       "  'scope': 'GOOGLE',\n",
       "  'types': ['point_of_interest', 'establishment'],\n",
       "  'user_ratings_total': 9,\n",
       "  'vicinity': 'Copper Box Arena, Queen Elizabeth Park, London'},\n",
       " {'business_status': 'OPERATIONAL',\n",
       "  'geometry': {'location': {'lat': 51.5444079, 'lng': -0.0200825},\n",
       "   'viewport': {'northeast': {'lat': 51.54606917989272,\n",
       "     'lng': -0.01779319999999999},\n",
       "    'southwest': {'lat': 51.54336952010727, 'lng': -0.0221292}}},\n",
       "  'icon': 'https://maps.gstatic.com/mapfiles/place_api/icons/v1/png_71/generic_business-71.png',\n",
       "  'name': 'Copper Box Arena',\n",
       "  'photos': [{'height': 3036,\n",
       "    'html_attributions': ['<a href=\"https://maps.google.com/maps/contrib/106076624073517358456\">stephen james</a>'],\n",
       "    'photo_reference': 'ATtYBwLvCsBSoesBwlyombm3R7qn445R6PrOltZILbcuw-9xkhrlH-IQcltGSsrfLf68CdS-Sm7zIGQyFhwb1qjnfotGCfKABfSlSk6XGx-nqIQ8t0NYEjTDWAC6_Pc_g8LTyplmhQo-3jxviS1R7MxYNaNfBr5bpJ1txi6KqqvY8sMzcIlZ',\n",
       "    'width': 4048}],\n",
       "  'place_id': 'ChIJV8XCrm0ddkgR5laOXqhAWe0',\n",
       "  'plus_code': {'compound_code': 'GXVH+QX London, United Kingdom',\n",
       "   'global_code': '9C3XGXVH+QX'},\n",
       "  'rating': 4.4,\n",
       "  'reference': 'ChIJV8XCrm0ddkgR5laOXqhAWe0',\n",
       "  'scope': 'GOOGLE',\n",
       "  'types': ['gym', 'health', 'point_of_interest', 'establishment'],\n",
       "  'user_ratings_total': 1020,\n",
       "  'vicinity': 'Queen Elizabeth Olympic Park, London'}]"
      ]
     },
     "execution_count": 80,
     "metadata": {},
     "output_type": "execute_result"
    }
   ],
   "source": [
    "decodepawilly "
   ]
  },
  {
   "cell_type": "markdown",
   "id": "a46bea8e",
   "metadata": {},
   "source": [
    "#### Establecemos la ruta para cada campo que nos interesa y la almacenamos en variables:"
   ]
  },
  {
   "cell_type": "code",
   "execution_count": 81,
   "id": "9685bf3f",
   "metadata": {},
   "outputs": [],
   "source": [
    "mapa_nombre =  [\"name\"]\n",
    "mapa_latitud = [\"geometry\", \"location\", \"lat\"]\n",
    "mapa_longitud = [\"geometry\", \"location\", \"lng\"]\n",
    "mapa_rating = [ \"rating\"]"
   ]
  },
  {
   "cell_type": "markdown",
   "id": "a775191a",
   "metadata": {},
   "source": [
    "#### Definimos la función que entrará en el camino indicado anteriormente"
   ]
  },
  {
   "cell_type": "code",
   "execution_count": 89,
   "id": "2d9c1ca8",
   "metadata": {},
   "outputs": [],
   "source": [
    "def getFromDict(diccionario,mapa):\n",
    "    \"\"\"\" \n",
    "    Esta función recibe 2 parámetros, un diccionario de diccionarios y una lista de strings  realizada \"ad hoc\" para \n",
    "        ese diccionario, esos strings serán las keys por las que entrará la función para retornarnos el value del último string\n",
    "    \"\"\"\n",
    "    return reduce(operator.getitem,mapa,diccionario)"
   ]
  },
  {
   "cell_type": "markdown",
   "id": "b764e762",
   "metadata": {},
   "source": [
    "#### Y ahora crearemos un diccionario, y con un bucle for que utiliza la función anterior lo rellenaremos: \n",
    "##### No lo he hecho función porque el key \"Category\" lo voy a rellenar a mano, la flexibilidad que nos ofrece google places a la hora de realizar querys, aquí se vuelve en contra, no existe un \"type\" o una \"keyword\" unico que nos pueda servir en esta situación"
   ]
  },
  {
   "cell_type": "code",
   "execution_count": 90,
   "id": "de1a0d63",
   "metadata": {},
   "outputs": [],
   "source": [
    "# no lo he hecho función porque el key \"Category\" lo voy a rellenar a mano\n",
    "dicparty = []\n",
    "for dic in decodeparty2lond:\n",
    "    paralista = {}\n",
    "    paralista[\"Name\"] = getFromDict(dic, mapa_nombre)\n",
    "    paralista[\"latitud\"]= getFromDict(dic, mapa_latitud)\n",
    "    paralista[\"longitud\"] = getFromDict(dic,mapa_longitud)\n",
    "    paralista[\"Rating\"] = getFromDict (dic, mapa_rating)\n",
    "    paralista[\"Category\"]= \"Bares_pubs\"\n",
    "    dicparty.append(paralista)"
   ]
  },
  {
   "cell_type": "code",
   "execution_count": 91,
   "id": "714e6ced",
   "metadata": {},
   "outputs": [
    {
     "data": {
      "text/html": [
       "<div>\n",
       "<style scoped>\n",
       "    .dataframe tbody tr th:only-of-type {\n",
       "        vertical-align: middle;\n",
       "    }\n",
       "\n",
       "    .dataframe tbody tr th {\n",
       "        vertical-align: top;\n",
       "    }\n",
       "\n",
       "    .dataframe thead th {\n",
       "        text-align: right;\n",
       "    }\n",
       "</style>\n",
       "<table border=\"1\" class=\"dataframe\">\n",
       "  <thead>\n",
       "    <tr style=\"text-align: right;\">\n",
       "      <th></th>\n",
       "      <th>Name</th>\n",
       "      <th>latitud</th>\n",
       "      <th>longitud</th>\n",
       "      <th>Rating</th>\n",
       "      <th>Category</th>\n",
       "    </tr>\n",
       "  </thead>\n",
       "  <tbody>\n",
       "    <tr>\n",
       "      <th>0</th>\n",
       "      <td>Bibbers</td>\n",
       "      <td>51.521683</td>\n",
       "      <td>-0.143679</td>\n",
       "      <td>0.0</td>\n",
       "      <td>Bares_pubs</td>\n",
       "    </tr>\n",
       "    <tr>\n",
       "      <th>1</th>\n",
       "      <td>Simmons Bar | Fitzrovia</td>\n",
       "      <td>51.522198</td>\n",
       "      <td>-0.138771</td>\n",
       "      <td>4.3</td>\n",
       "      <td>Bares_pubs</td>\n",
       "    </tr>\n",
       "    <tr>\n",
       "      <th>2</th>\n",
       "      <td>Nordic Bar</td>\n",
       "      <td>51.517858</td>\n",
       "      <td>-0.135694</td>\n",
       "      <td>4.0</td>\n",
       "      <td>Bares_pubs</td>\n",
       "    </tr>\n",
       "    <tr>\n",
       "      <th>3</th>\n",
       "      <td>Mimi's Bar &amp; Lounge</td>\n",
       "      <td>51.517500</td>\n",
       "      <td>-0.135278</td>\n",
       "      <td>3.2</td>\n",
       "      <td>Bares_pubs</td>\n",
       "    </tr>\n",
       "    <tr>\n",
       "      <th>4</th>\n",
       "      <td>Simmons Bar | Oxford Street</td>\n",
       "      <td>51.515663</td>\n",
       "      <td>-0.136031</td>\n",
       "      <td>4.4</td>\n",
       "      <td>Bares_pubs</td>\n",
       "    </tr>\n",
       "  </tbody>\n",
       "</table>\n",
       "</div>"
      ],
      "text/plain": [
       "                          Name    latitud  longitud  Rating    Category\n",
       "0                      Bibbers  51.521683 -0.143679     0.0  Bares_pubs\n",
       "1      Simmons Bar | Fitzrovia  51.522198 -0.138771     4.3  Bares_pubs\n",
       "2                   Nordic Bar  51.517858 -0.135694     4.0  Bares_pubs\n",
       "3          Mimi's Bar & Lounge  51.517500 -0.135278     3.2  Bares_pubs\n",
       "4  Simmons Bar | Oxford Street  51.515663 -0.136031     4.4  Bares_pubs"
      ]
     },
     "execution_count": 91,
     "metadata": {},
     "output_type": "execute_result"
    }
   ],
   "source": [
    "dfparty = pd.DataFrame(dicparty)\n",
    "dfparty.head() "
   ]
  },
  {
   "cell_type": "code",
   "execution_count": 92,
   "id": "3c0ea4cb",
   "metadata": {},
   "outputs": [],
   "source": [
    "dicnenes = []\n",
    "for dic in decodenenes2lond:\n",
    "    paralista = {}\n",
    "    paralista[\"Name\"] = getFromDict(dic, mapa_nombre)\n",
    "    paralista[\"latitud\"]= getFromDict(dic, mapa_latitud)\n",
    "    paralista[\"longitud\"] = getFromDict(dic,mapa_longitud)\n",
    "    paralista[\"Rating\"] = getFromDict (dic, mapa_rating)\n",
    "    paralista[\"Category\"]= \"Instituciones_educativas\"\n",
    "    dicnenes.append(paralista)"
   ]
  },
  {
   "cell_type": "code",
   "execution_count": 93,
   "id": "75575015",
   "metadata": {},
   "outputs": [],
   "source": [
    "dicvegans = []\n",
    "for dic in decodevegans2lond:\n",
    "    paralista = {}\n",
    "    paralista[\"Name\"] = getFromDict(dic, mapa_nombre)\n",
    "    paralista[\"latitud\"]= getFromDict(dic, mapa_latitud)\n",
    "    paralista[\"longitud\"] = getFromDict(dic,mapa_longitud)\n",
    "    paralista[\"Rating\"] = getFromDict (dic, mapa_rating)\n",
    "    paralista[\"Category\"]= \"Restaurantes_veganos\"\n",
    "    dicvegans.append(paralista)"
   ]
  },
  {
   "cell_type": "code",
   "execution_count": 94,
   "id": "fcdc1211",
   "metadata": {},
   "outputs": [],
   "source": [
    "dicstars = []\n",
    "for dic in decodestars2lond:\n",
    "    paralista = {}\n",
    "    paralista[\"Name\"] = getFromDict(dic, mapa_nombre)\n",
    "    paralista[\"latitud\"]= getFromDict(dic, mapa_latitud)\n",
    "    paralista[\"longitud\"] = getFromDict(dic,mapa_longitud)\n",
    "    paralista[\"Rating\"] = getFromDict (dic, mapa_rating)\n",
    "    paralista[\"Category\"]= \"Starbucks\"\n",
    "    dicstars.append(paralista)"
   ]
  },
  {
   "cell_type": "code",
   "execution_count": 95,
   "id": "d8972456",
   "metadata": {},
   "outputs": [],
   "source": [
    "dicdobby = []\n",
    "for dic in decodepadobby:\n",
    "    paralista = {}\n",
    "    paralista[\"Name\"] = getFromDict(dic, mapa_nombre)\n",
    "    paralista[\"latitud\"]= getFromDict(dic, mapa_latitud)\n",
    "    paralista[\"longitud\"] = getFromDict(dic,mapa_longitud)\n",
    "    paralista[\"Rating\"] = getFromDict (dic, mapa_rating)\n",
    "    paralista[\"Category\"]= \"Peluquerias de mascotas\"\n",
    "    dicdobby.append(paralista)"
   ]
  },
  {
   "cell_type": "code",
   "execution_count": 96,
   "id": "ff0fb39f",
   "metadata": {},
   "outputs": [],
   "source": [
    "dicwilly = []\n",
    "for dic in decodepawilly:\n",
    "    paralista = {}\n",
    "    paralista[\"Name\"] = getFromDict(dic, mapa_nombre)\n",
    "    paralista[\"latitud\"]= getFromDict(dic, mapa_latitud)\n",
    "    paralista[\"longitud\"] = getFromDict(dic,mapa_longitud)\n",
    "    paralista[\"Rating\"] = getFromDict (dic, mapa_rating)\n",
    "    paralista[\"Category\"]= \"Estadios de basket\"\n",
    "    dicwilly.append(paralista)"
   ]
  },
  {
   "cell_type": "markdown",
   "id": "0dd24d19",
   "metadata": {},
   "source": [
    "#### Ahora lo almacenaremos en DataFrames y los concatenaremos sin mayor problema"
   ]
  },
  {
   "cell_type": "code",
   "execution_count": 97,
   "id": "c5de65b5",
   "metadata": {},
   "outputs": [],
   "source": [
    "dfnenes = pd.DataFrame (dicnenes)\n",
    "dfvegans = pd.DataFrame (dicvegans)\n",
    "dfstars = pd.DataFrame (dicstars)\n",
    "dfdobby = pd.DataFrame (dicdobby)\n",
    "dfwilly = pd.DataFrame (dicwilly)"
   ]
  },
  {
   "cell_type": "code",
   "execution_count": 98,
   "id": "e2ba45a7",
   "metadata": {},
   "outputs": [],
   "source": [
    "dfvisualizacion= pd.concat ([dfnenes, dfvegans,dfstars, dfdobby, dfwilly, dfparty], ignore_index=True)"
   ]
  },
  {
   "cell_type": "code",
   "execution_count": 99,
   "id": "1b6bbeed",
   "metadata": {
    "scrolled": true
   },
   "outputs": [
    {
     "data": {
      "text/html": [
       "<div>\n",
       "<style scoped>\n",
       "    .dataframe tbody tr th:only-of-type {\n",
       "        vertical-align: middle;\n",
       "    }\n",
       "\n",
       "    .dataframe tbody tr th {\n",
       "        vertical-align: top;\n",
       "    }\n",
       "\n",
       "    .dataframe thead th {\n",
       "        text-align: right;\n",
       "    }\n",
       "</style>\n",
       "<table border=\"1\" class=\"dataframe\">\n",
       "  <thead>\n",
       "    <tr style=\"text-align: right;\">\n",
       "      <th></th>\n",
       "      <th>Name</th>\n",
       "      <th>latitud</th>\n",
       "      <th>longitud</th>\n",
       "      <th>Rating</th>\n",
       "      <th>Category</th>\n",
       "    </tr>\n",
       "  </thead>\n",
       "  <tbody>\n",
       "    <tr>\n",
       "      <th>92</th>\n",
       "      <td>GO Mammoth</td>\n",
       "      <td>51.517956</td>\n",
       "      <td>-0.229341</td>\n",
       "      <td>2.8</td>\n",
       "      <td>Estadios de basket</td>\n",
       "    </tr>\n",
       "    <tr>\n",
       "      <th>14</th>\n",
       "      <td>Rangers Kindergarten</td>\n",
       "      <td>51.526033</td>\n",
       "      <td>-0.053703</td>\n",
       "      <td>5.0</td>\n",
       "      <td>Instituciones_educativas</td>\n",
       "    </tr>\n",
       "    <tr>\n",
       "      <th>117</th>\n",
       "      <td>Mobile Bar Hire</td>\n",
       "      <td>51.501017</td>\n",
       "      <td>-0.129633</td>\n",
       "      <td>0.0</td>\n",
       "      <td>Bares_pubs</td>\n",
       "    </tr>\n",
       "    <tr>\n",
       "      <th>118</th>\n",
       "      <td>The Chapel Bar</td>\n",
       "      <td>51.532721</td>\n",
       "      <td>-0.111644</td>\n",
       "      <td>4.3</td>\n",
       "      <td>Bares_pubs</td>\n",
       "    </tr>\n",
       "    <tr>\n",
       "      <th>82</th>\n",
       "      <td>Hireapitch UK ltd.</td>\n",
       "      <td>51.500955</td>\n",
       "      <td>-0.108892</td>\n",
       "      <td>3.7</td>\n",
       "      <td>Estadios de basket</td>\n",
       "    </tr>\n",
       "    <tr>\n",
       "      <th>25</th>\n",
       "      <td>Govinda's Pure Vegetarian Restaurant</td>\n",
       "      <td>51.515835</td>\n",
       "      <td>-0.132760</td>\n",
       "      <td>4.3</td>\n",
       "      <td>Restaurantes_veganos</td>\n",
       "    </tr>\n",
       "    <tr>\n",
       "      <th>57</th>\n",
       "      <td>Starbucks Coffee</td>\n",
       "      <td>51.515233</td>\n",
       "      <td>-0.130191</td>\n",
       "      <td>3.9</td>\n",
       "      <td>Starbucks</td>\n",
       "    </tr>\n",
       "    <tr>\n",
       "      <th>105</th>\n",
       "      <td>The Roxy</td>\n",
       "      <td>51.516607</td>\n",
       "      <td>-0.133026</td>\n",
       "      <td>3.1</td>\n",
       "      <td>Bares_pubs</td>\n",
       "    </tr>\n",
       "    <tr>\n",
       "      <th>80</th>\n",
       "      <td>Somers Town Community Sports Centre</td>\n",
       "      <td>51.532752</td>\n",
       "      <td>-0.132869</td>\n",
       "      <td>4.4</td>\n",
       "      <td>Estadios de basket</td>\n",
       "    </tr>\n",
       "    <tr>\n",
       "      <th>22</th>\n",
       "      <td>Vantra Eden</td>\n",
       "      <td>51.521040</td>\n",
       "      <td>-0.135123</td>\n",
       "      <td>4.8</td>\n",
       "      <td>Restaurantes_veganos</td>\n",
       "    </tr>\n",
       "  </tbody>\n",
       "</table>\n",
       "</div>"
      ],
      "text/plain": [
       "                                     Name    latitud  longitud  Rating  \\\n",
       "92                             GO Mammoth  51.517956 -0.229341     2.8   \n",
       "14                   Rangers Kindergarten  51.526033 -0.053703     5.0   \n",
       "117                       Mobile Bar Hire  51.501017 -0.129633     0.0   \n",
       "118                        The Chapel Bar  51.532721 -0.111644     4.3   \n",
       "82                     Hireapitch UK ltd.  51.500955 -0.108892     3.7   \n",
       "25   Govinda's Pure Vegetarian Restaurant  51.515835 -0.132760     4.3   \n",
       "57                       Starbucks Coffee  51.515233 -0.130191     3.9   \n",
       "105                              The Roxy  51.516607 -0.133026     3.1   \n",
       "80    Somers Town Community Sports Centre  51.532752 -0.132869     4.4   \n",
       "22                            Vantra Eden  51.521040 -0.135123     4.8   \n",
       "\n",
       "                     Category  \n",
       "92         Estadios de basket  \n",
       "14   Instituciones_educativas  \n",
       "117                Bares_pubs  \n",
       "118                Bares_pubs  \n",
       "82         Estadios de basket  \n",
       "25       Restaurantes_veganos  \n",
       "57                  Starbucks  \n",
       "105                Bares_pubs  \n",
       "80         Estadios de basket  \n",
       "22       Restaurantes_veganos  "
      ]
     },
     "execution_count": 99,
     "metadata": {},
     "output_type": "execute_result"
    }
   ],
   "source": [
    "dfvisualizacion.sample (10)"
   ]
  },
  {
   "cell_type": "markdown",
   "id": "347707ab",
   "metadata": {},
   "source": [
    "## Visualización: \n",
    "#### En este apartado voy a intentar utilizar keplerg para visionar Londres, donde centraré el mapa en las coordenadas ganadoras y mostraré todos los elementos almacenados en el apartado anterior."
   ]
  },
  {
   "cell_type": "markdown",
   "id": "8b0b3fda",
   "metadata": {},
   "source": [
    "\n",
    "\n",
    "\n",
    "#### Primero crearé un mapa base, y luego cambiaré la configuración para incluir nuestro df"
   ]
  },
  {
   "cell_type": "code",
   "execution_count": 14,
   "id": "094bdb34",
   "metadata": {},
   "outputs": [],
   "source": [
    "# he borrado los intentos de copiar el config... pero en resumen, no he podido"
   ]
  },
  {
   "cell_type": "markdown",
   "id": "edcd74a4",
   "metadata": {},
   "source": [
    "#### Una vez intentado lo anterior, vamos a configurarlo a mano, mediante la interfaz, por lo que no habrá codigo."
   ]
  },
  {
   "cell_type": "code",
   "execution_count": 103,
   "id": "bd39f83f",
   "metadata": {},
   "outputs": [
    {
     "name": "stdout",
     "output_type": "stream",
     "text": [
      "User Guide: https://docs.kepler.gl/docs/keplergl-jupyter\n"
     ]
    },
    {
     "data": {
      "application/vnd.jupyter.widget-view+json": {
       "model_id": "5cea0ab9936d45b18ea522c5f917015f",
       "version_major": 2,
       "version_minor": 0
      },
      "text/plain": [
       "KeplerGl(config={'version': 'v1', 'config': {'visState': {'filters': [{'dataId': ['data_1'], 'id': 'xxwmgl5kh'…"
      ]
     },
     "metadata": {},
     "output_type": "display_data"
    }
   ],
   "source": [
    "map_2= KeplerGl(height=700, data={'data_1': dfvisualizacion}, config= {'version': 'v1',\n",
    " 'config': {'visState': {'filters': [{'dataId': ['data_1'],\n",
    "     'id': 'xxwmgl5kh',\n",
    "     'name': ['Category'],\n",
    "     'type': 'multiSelect',\n",
    "     'value': ['Restaurantes_veganos'],\n",
    "     'enlarged': False,\n",
    "     'plotType': 'histogram',\n",
    "     'animationWindow': 'free',\n",
    "     'yAxis': None}],\n",
    "   'layers': [{'id': 'geocoder_layer',\n",
    "     'type': 'icon',\n",
    "     'config': {'dataId': 'geocoder_dataset',\n",
    "      'label': 'Geocoder Layer',\n",
    "      'color': [255, 0, 0],\n",
    "      'columns': {'lat': 'lt', 'lng': 'ln', 'icon': 'icon'},\n",
    "      'isVisible': True,\n",
    "      'visConfig': {'radius': 80,\n",
    "       'fixedRadius': False,\n",
    "       'opacity': 0.8,\n",
    "       'colorRange': {'name': 'Global Warming',\n",
    "        'type': 'sequential',\n",
    "        'category': 'Uber',\n",
    "        'colors': ['#5A1846',\n",
    "         '#900C3F',\n",
    "         '#C70039',\n",
    "         '#E3611C',\n",
    "         '#F1920E',\n",
    "         '#FFC300']},\n",
    "       'radiusRange': [0, 50]},\n",
    "      'hidden': True,\n",
    "      'textLabel': [{'field': None,\n",
    "        'color': [255, 255, 255],\n",
    "        'size': 18,\n",
    "        'offset': [0, 0],\n",
    "        'anchor': 'start',\n",
    "        'alignment': 'center'}]},\n",
    "     'visualChannels': {'colorField': None,\n",
    "      'colorScale': 'quantile',\n",
    "      'sizeField': None,\n",
    "      'sizeScale': 'linear'}},\n",
    "    {'id': 'xp2uxl4',\n",
    "     'type': 'point',\n",
    "     'config': {'dataId': 'data_1',\n",
    "      'label': 'Nombre',\n",
    "      'color': [201, 0, 0],\n",
    "      'columns': {'lat': 'latitud', 'lng': 'longitud', 'altitude': None},\n",
    "      'isVisible': True,\n",
    "      'visConfig': {'radius': 10.8,\n",
    "       'fixedRadius': False,\n",
    "       'opacity': 0.8,\n",
    "       'outline': False,\n",
    "       'thickness': 2,\n",
    "       'strokeColor': None,\n",
    "       'colorRange': {'name': 'Global Warming',\n",
    "        'type': 'sequential',\n",
    "        'category': 'Uber',\n",
    "        'colors': ['#5A1846',\n",
    "         '#900C3F',\n",
    "         '#C70039',\n",
    "         '#E3611C',\n",
    "         '#F1920E',\n",
    "         '#FFC300']},\n",
    "       'strokeColorRange': {'name': 'Global Warming',\n",
    "        'type': 'sequential',\n",
    "        'category': 'Uber',\n",
    "        'colors': ['#5A1846',\n",
    "         '#900C3F',\n",
    "         '#C70039',\n",
    "         '#E3611C',\n",
    "         '#F1920E',\n",
    "         '#FFC300']},\n",
    "       'radiusRange': [0, 50],\n",
    "       'filled': True},\n",
    "      'hidden': False,\n",
    "      'textLabel': [{'field': {'name': 'Name', 'type': 'string'},\n",
    "        'color': [255, 255, 255],\n",
    "        'size': 18,\n",
    "        'offset': [0, 0],\n",
    "        'anchor': 'start',\n",
    "        'alignment': 'center'}]},\n",
    "     'visualChannels': {'colorField': None,\n",
    "      'colorScale': 'quantile',\n",
    "      'strokeColorField': None,\n",
    "      'strokeColorScale': 'quantile',\n",
    "      'sizeField': None,\n",
    "      'sizeScale': 'linear'}},\n",
    "    {'id': 'kqopx8w',\n",
    "     'type': 'point',\n",
    "     'config': {'dataId': 'data_1',\n",
    "      'label': 'categoria',\n",
    "      'color': [47, 197, 204],\n",
    "      'columns': {'lat': 'latitud', 'lng': 'longitud', 'altitude': None},\n",
    "      'isVisible': False,\n",
    "      'visConfig': {'radius': 10,\n",
    "       'fixedRadius': False,\n",
    "       'opacity': 0.8,\n",
    "       'outline': False,\n",
    "       'thickness': 2,\n",
    "       'strokeColor': None,\n",
    "       'colorRange': {'name': 'Global Warming',\n",
    "        'type': 'sequential',\n",
    "        'category': 'Uber',\n",
    "        'colors': ['#5A1846',\n",
    "         '#900C3F',\n",
    "         '#C70039',\n",
    "         '#E3611C',\n",
    "         '#F1920E',\n",
    "         '#FFC300']},\n",
    "       'strokeColorRange': {'name': 'Global Warming',\n",
    "        'type': 'sequential',\n",
    "        'category': 'Uber',\n",
    "        'colors': ['#5A1846',\n",
    "         '#900C3F',\n",
    "         '#C70039',\n",
    "         '#E3611C',\n",
    "         '#F1920E',\n",
    "         '#FFC300']},\n",
    "       'radiusRange': [0, 50],\n",
    "       'filled': True},\n",
    "      'hidden': False,\n",
    "      'textLabel': [{'field': {'name': 'Category', 'type': 'string'},\n",
    "        'color': [255, 255, 255],\n",
    "        'size': 18,\n",
    "        'offset': [0, 0],\n",
    "        'anchor': 'start',\n",
    "        'alignment': 'center'}]},\n",
    "     'visualChannels': {'colorField': None,\n",
    "      'colorScale': 'quantile',\n",
    "      'strokeColorField': None,\n",
    "      'strokeColorScale': 'quantile',\n",
    "      'sizeField': None,\n",
    "      'sizeScale': 'linear'}}],\n",
    "   'interactionConfig': {'tooltip': {'fieldsToShow': {'data_1': [],\n",
    "      'geocoder_dataset': [{'name': 'lt', 'format': None},\n",
    "       {'name': 'ln', 'format': None},\n",
    "       {'name': 'icon', 'format': None},\n",
    "       {'name': 'text', 'format': None}]},\n",
    "     'compareMode': False,\n",
    "     'compareType': 'relative',\n",
    "     'enabled': False},\n",
    "    'brush': {'size': 7.9, 'enabled': True},\n",
    "    'geocoder': {'enabled': True},\n",
    "    'coordinate': {'enabled': False}},\n",
    "   'layerBlending': 'additive',\n",
    "   'splitMaps': [],\n",
    "   'animationConfig': {'currentTime': None, 'speed': 1}},\n",
    "  'mapState': {'bearing': 0,\n",
    "   'dragRotate': False,\n",
    "   'latitude': 51.51847899999999,\n",
    "   'longitude': -0.10982750000001082,\n",
    "   'pitch': 0,\n",
    "   'zoom': 12,\n",
    "   'isSplit': False},\n",
    "  'mapStyle': {'styleType': 'muted_night',\n",
    "   'topLayerGroups': {'label': True},\n",
    "   'visibleLayerGroups': {'label': True,\n",
    "    'road': True,\n",
    "    'border': False,\n",
    "    'building': True,\n",
    "    'water': True,\n",
    "    'land': True,\n",
    "    '3d building': False},\n",
    "   'threeDBuildingColor': [26.848523094644484,\n",
    "    31.1442867897876,\n",
    "    35.440050484930715],\n",
    "   'mapStyles': {}}}})\n",
    "map_2"
   ]
  },
  {
   "cell_type": "code",
   "execution_count": 618,
   "id": "d99305a7",
   "metadata": {},
   "outputs": [
    {
     "data": {
      "text/plain": [
       "{'version': 'v1',\n",
       " 'config': {'visState': {'filters': [{'dataId': ['data_1'],\n",
       "     'id': 'ibtlzx5f8',\n",
       "     'name': ['Category'],\n",
       "     'type': 'multiSelect',\n",
       "     'value': ['Instituciones_educativas'],\n",
       "     'enlarged': False,\n",
       "     'plotType': 'histogram',\n",
       "     'animationWindow': 'free',\n",
       "     'yAxis': None}],\n",
       "   'layers': [],\n",
       "   'interactionConfig': {'tooltip': {'fieldsToShow': {'data_1': [{'name': 'latitud',\n",
       "        'format': None},\n",
       "       {'name': 'longitud', 'format': None}]},\n",
       "     'compareMode': True,\n",
       "     'compareType': 'absolute',\n",
       "     'enabled': False},\n",
       "    'brush': {'size': 0.5, 'enabled': False},\n",
       "    'geocoder': {'enabled': True},\n",
       "    'coordinate': {'enabled': True}},\n",
       "   'layerBlending': 'normal',\n",
       "   'splitMaps': [],\n",
       "   'animationConfig': {'currentTime': None, 'speed': 1}},\n",
       "  'mapState': {'bearing': 0,\n",
       "   'dragRotate': False,\n",
       "   'latitude': 51.51125911319848,\n",
       "   'longitude': -0.14327251417106815,\n",
       "   'pitch': 0,\n",
       "   'zoom': 12.819258982123904,\n",
       "   'isSplit': False},\n",
       "  'mapStyle': {'styleType': 'dark',\n",
       "   'topLayerGroups': {},\n",
       "   'visibleLayerGroups': {'label': True,\n",
       "    'road': True,\n",
       "    'border': False,\n",
       "    'building': True,\n",
       "    'water': True,\n",
       "    'land': True,\n",
       "    '3d building': False},\n",
       "   'threeDBuildingColor': [9.665468314072013,\n",
       "    17.18305478057247,\n",
       "    31.1442867897876],\n",
       "   'mapStyles': {}}}}"
      ]
     },
     "execution_count": 618,
     "metadata": {},
     "output_type": "execute_result"
    }
   ],
   "source": [
    "map_2.config # configuración inicial, o casi"
   ]
  },
  {
   "cell_type": "code",
   "execution_count": 641,
   "id": "017d0b17",
   "metadata": {},
   "outputs": [
    {
     "data": {
      "text/plain": [
       "{'version': 'v1',\n",
       " 'config': {'visState': {'filters': [{'dataId': ['data_1'],\n",
       "     'id': 'xxwmgl5kh',\n",
       "     'name': ['Category'],\n",
       "     'type': 'multiSelect',\n",
       "     'value': ['Restaurantes_veganos'],\n",
       "     'enlarged': False,\n",
       "     'plotType': 'histogram',\n",
       "     'animationWindow': 'free',\n",
       "     'yAxis': None}],\n",
       "   'layers': [{'id': 'geocoder_layer',\n",
       "     'type': 'icon',\n",
       "     'config': {'dataId': 'geocoder_dataset',\n",
       "      'label': 'Geocoder Layer',\n",
       "      'color': [255, 0, 0],\n",
       "      'columns': {'lat': 'lt', 'lng': 'ln', 'icon': 'icon'},\n",
       "      'isVisible': True,\n",
       "      'visConfig': {'radius': 80,\n",
       "       'fixedRadius': False,\n",
       "       'opacity': 0.8,\n",
       "       'colorRange': {'name': 'Global Warming',\n",
       "        'type': 'sequential',\n",
       "        'category': 'Uber',\n",
       "        'colors': ['#5A1846',\n",
       "         '#900C3F',\n",
       "         '#C70039',\n",
       "         '#E3611C',\n",
       "         '#F1920E',\n",
       "         '#FFC300']},\n",
       "       'radiusRange': [0, 50]},\n",
       "      'hidden': True,\n",
       "      'textLabel': [{'field': None,\n",
       "        'color': [255, 255, 255],\n",
       "        'size': 18,\n",
       "        'offset': [0, 0],\n",
       "        'anchor': 'start',\n",
       "        'alignment': 'center'}]},\n",
       "     'visualChannels': {'colorField': None,\n",
       "      'colorScale': 'quantile',\n",
       "      'sizeField': None,\n",
       "      'sizeScale': 'linear'}},\n",
       "    {'id': 'xp2uxl4',\n",
       "     'type': 'point',\n",
       "     'config': {'dataId': 'data_1',\n",
       "      'label': 'Nombre',\n",
       "      'color': [201, 0, 0],\n",
       "      'columns': {'lat': 'latitud', 'lng': 'longitud', 'altitude': None},\n",
       "      'isVisible': True,\n",
       "      'visConfig': {'radius': 10.8,\n",
       "       'fixedRadius': False,\n",
       "       'opacity': 0.8,\n",
       "       'outline': False,\n",
       "       'thickness': 2,\n",
       "       'strokeColor': None,\n",
       "       'colorRange': {'name': 'Global Warming',\n",
       "        'type': 'sequential',\n",
       "        'category': 'Uber',\n",
       "        'colors': ['#5A1846',\n",
       "         '#900C3F',\n",
       "         '#C70039',\n",
       "         '#E3611C',\n",
       "         '#F1920E',\n",
       "         '#FFC300']},\n",
       "       'strokeColorRange': {'name': 'Global Warming',\n",
       "        'type': 'sequential',\n",
       "        'category': 'Uber',\n",
       "        'colors': ['#5A1846',\n",
       "         '#900C3F',\n",
       "         '#C70039',\n",
       "         '#E3611C',\n",
       "         '#F1920E',\n",
       "         '#FFC300']},\n",
       "       'radiusRange': [0, 50],\n",
       "       'filled': True},\n",
       "      'hidden': False,\n",
       "      'textLabel': [{'field': {'name': 'Name', 'type': 'string'},\n",
       "        'color': [255, 255, 255],\n",
       "        'size': 18,\n",
       "        'offset': [0, 0],\n",
       "        'anchor': 'start',\n",
       "        'alignment': 'center'}]},\n",
       "     'visualChannels': {'colorField': None,\n",
       "      'colorScale': 'quantile',\n",
       "      'strokeColorField': None,\n",
       "      'strokeColorScale': 'quantile',\n",
       "      'sizeField': None,\n",
       "      'sizeScale': 'linear'}},\n",
       "    {'id': 'kqopx8w',\n",
       "     'type': 'point',\n",
       "     'config': {'dataId': 'data_1',\n",
       "      'label': 'categoria',\n",
       "      'color': [47, 197, 204],\n",
       "      'columns': {'lat': 'latitud', 'lng': 'longitud', 'altitude': None},\n",
       "      'isVisible': False,\n",
       "      'visConfig': {'radius': 10,\n",
       "       'fixedRadius': False,\n",
       "       'opacity': 0.8,\n",
       "       'outline': False,\n",
       "       'thickness': 2,\n",
       "       'strokeColor': None,\n",
       "       'colorRange': {'name': 'Global Warming',\n",
       "        'type': 'sequential',\n",
       "        'category': 'Uber',\n",
       "        'colors': ['#5A1846',\n",
       "         '#900C3F',\n",
       "         '#C70039',\n",
       "         '#E3611C',\n",
       "         '#F1920E',\n",
       "         '#FFC300']},\n",
       "       'strokeColorRange': {'name': 'Global Warming',\n",
       "        'type': 'sequential',\n",
       "        'category': 'Uber',\n",
       "        'colors': ['#5A1846',\n",
       "         '#900C3F',\n",
       "         '#C70039',\n",
       "         '#E3611C',\n",
       "         '#F1920E',\n",
       "         '#FFC300']},\n",
       "       'radiusRange': [0, 50],\n",
       "       'filled': True},\n",
       "      'hidden': False,\n",
       "      'textLabel': [{'field': {'name': 'Category', 'type': 'string'},\n",
       "        'color': [255, 255, 255],\n",
       "        'size': 18,\n",
       "        'offset': [0, 0],\n",
       "        'anchor': 'start',\n",
       "        'alignment': 'center'}]},\n",
       "     'visualChannels': {'colorField': None,\n",
       "      'colorScale': 'quantile',\n",
       "      'strokeColorField': None,\n",
       "      'strokeColorScale': 'quantile',\n",
       "      'sizeField': None,\n",
       "      'sizeScale': 'linear'}}],\n",
       "   'interactionConfig': {'tooltip': {'fieldsToShow': {'data_1': [],\n",
       "      'geocoder_dataset': [{'name': 'lt', 'format': None},\n",
       "       {'name': 'ln', 'format': None},\n",
       "       {'name': 'icon', 'format': None},\n",
       "       {'name': 'text', 'format': None}]},\n",
       "     'compareMode': False,\n",
       "     'compareType': 'relative',\n",
       "     'enabled': False},\n",
       "    'brush': {'size': 7.9, 'enabled': True},\n",
       "    'geocoder': {'enabled': True},\n",
       "    'coordinate': {'enabled': False}},\n",
       "   'layerBlending': 'additive',\n",
       "   'splitMaps': [],\n",
       "   'animationConfig': {'currentTime': None, 'speed': 1}},\n",
       "  'mapState': {'bearing': 0,\n",
       "   'dragRotate': False,\n",
       "   'latitude': 51.51847899999999,\n",
       "   'longitude': -0.10982750000001082,\n",
       "   'pitch': 0,\n",
       "   'zoom': 12,\n",
       "   'isSplit': False},\n",
       "  'mapStyle': {'styleType': 'muted_night',\n",
       "   'topLayerGroups': {'label': True},\n",
       "   'visibleLayerGroups': {'label': True,\n",
       "    'road': True,\n",
       "    'border': False,\n",
       "    'building': True,\n",
       "    'water': True,\n",
       "    'land': True,\n",
       "    '3d building': False},\n",
       "   'threeDBuildingColor': [26.848523094644484,\n",
       "    31.1442867897876,\n",
       "    35.440050484930715],\n",
       "   'mapStyles': {}}}}"
      ]
     },
     "execution_count": 641,
     "metadata": {},
     "output_type": "execute_result"
    }
   ],
   "source": [
    "map_2.config #configuración final"
   ]
  },
  {
   "cell_type": "code",
   "execution_count": 102,
   "id": "99aef1eb",
   "metadata": {},
   "outputs": [
    {
     "name": "stdout",
     "output_type": "stream",
     "text": [
      "Map saved to ..\\mapa\\mapalond.html!\n"
     ]
    }
   ],
   "source": [
    "map_2.save_to_html(file_name = \"..\\mapa\\mapalond.html\", read_only = False)"
   ]
  },
  {
   "cell_type": "markdown",
   "id": "fdba4a93",
   "metadata": {},
   "source": [
    "#### Para el resultado final me hubiera gustado poder colores distintos para cada categoria distinta, pero no lo he conseguido. "
   ]
  },
  {
   "cell_type": "code",
   "execution_count": null,
   "id": "a8c5cacf",
   "metadata": {},
   "outputs": [],
   "source": []
  }
 ],
 "metadata": {
  "kernelspec": {
   "display_name": "Python 3",
   "language": "python",
   "name": "python3"
  },
  "language_info": {
   "codemirror_mode": {
    "name": "ipython",
    "version": 3
   },
   "file_extension": ".py",
   "mimetype": "text/x-python",
   "name": "python",
   "nbconvert_exporter": "python",
   "pygments_lexer": "ipython3",
   "version": "3.9.2"
  }
 },
 "nbformat": 4,
 "nbformat_minor": 5
}
